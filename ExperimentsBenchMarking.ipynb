{
 "cells": [
  {
   "cell_type": "code",
   "execution_count": 1,
   "metadata": {},
   "outputs": [],
   "source": [
    "import utilities\n",
    "import matplotlib.pyplot as plt\n",
    "import numpy as np\n",
    "import AdaBoost\n",
    "import KernelPerceptron"
   ]
  },
  {
   "cell_type": "code",
   "execution_count": 2,
   "metadata": {},
   "outputs": [],
   "source": [
    "height = width = 16\n",
    "class_number = 10"
   ]
  },
  {
   "cell_type": "code",
   "execution_count": 3,
   "metadata": {},
   "outputs": [],
   "source": [
    "train_data = 'Datasets/full_dataset.dat'"
   ]
  },
  {
   "cell_type": "code",
   "execution_count": 4,
   "metadata": {},
   "outputs": [],
   "source": [
    "data,labels = utilities.read_data(train_data,width,height)"
   ]
  },
  {
   "cell_type": "code",
   "execution_count": 5,
   "metadata": {},
   "outputs": [
    {
     "name": "stdout",
     "output_type": "stream",
     "text": [
      "(1446, 256)\n",
      "(620, 256)\n",
      "(1446,)\n",
      "(620,)\n"
     ]
    }
   ],
   "source": [
    "train_data,test_data,train_labels,test_labels = utilities.data_split(data,labels,0.3)\n",
    "print(train_data.shape)\n",
    "print(test_data.shape)\n",
    "print(train_labels.shape)\n",
    "print(test_labels.shape)"
   ]
  },
  {
   "cell_type": "code",
   "execution_count": 6,
   "metadata": {},
   "outputs": [
    {
     "name": "stdout",
     "output_type": "stream",
     "text": [
      "282 images of class 0 found\n",
      "222 images of class 1 found\n",
      "153 images of class 2 found\n",
      "98 images of class 3 found\n",
      "104 images of class 4 found\n",
      "80 images of class 5 found\n",
      "129 images of class 6 found\n",
      "135 images of class 7 found\n",
      "112 images of class 8 found\n",
      "131 images of class 9 found\n",
      "45\n"
     ]
    }
   ],
   "source": [
    "data_per_class_dictionary = utilities.collect_each_class_images(train_data,train_labels,10)\n",
    "pair_datasets = utilities.create_1_VS_1_dataset(data_per_class_dictionary)\n",
    "print(\"Paired classifiers number: \" + str(len(pair_datasets)))"
   ]
  },
  {
   "cell_type": "code",
   "execution_count": 7,
   "metadata": {},
   "outputs": [
    {
     "name": "stdout",
     "output_type": "stream",
     "text": [
      "Training a classifier for: 0\n",
      "Training a classifier for: 1\n",
      "Training a classifier for: 2\n",
      "Training a classifier for: 3\n",
      "Training a classifier for: 4\n",
      "Training a classifier for: 5\n",
      "Training a classifier for: 6\n",
      "Training a classifier for: 7\n",
      "Training a classifier for: 8\n",
      "Training a classifier for: 9\n"
     ]
    }
   ],
   "source": [
    "#algorithm = 'AdaBoost'\n",
    "#parameters = [50]\n",
    "algorithm = 'KernelPerceptron'\n",
    "parameters = ['gaussian',0.5]\n",
    "models_dict = utilities.one_VS_all_training(data_per_class_dictionary,class_number,algorithm,parameters)\n",
    "#pair_models = utilities.one_vs_one_training(pair_datasets,algorithm,parameters)"
   ]
  },
  {
   "cell_type": "code",
   "execution_count": 8,
   "metadata": {},
   "outputs": [],
   "source": [
    "test_predictions = utilities.one_VS_all_testing(models_dict,test_data,test_labels)\n",
    "#test_predictions = utilities.one_vs_one_testing(pair_models,test_data,class_number)"
   ]
  },
  {
   "cell_type": "code",
   "execution_count": 9,
   "metadata": {},
   "outputs": [
    {
     "name": "stdout",
     "output_type": "stream",
     "text": [
      "91.77419354838709\n"
     ]
    }
   ],
   "source": [
    "print(utilities.calculate_accuracy(test_predictions,test_labels))"
   ]
  }
 ],
 "metadata": {
  "kernelspec": {
   "display_name": "Python 3",
   "language": "python",
   "name": "python3"
  },
  "language_info": {
   "codemirror_mode": {
    "name": "ipython",
    "version": 3
   },
   "file_extension": ".py",
   "mimetype": "text/x-python",
   "name": "python",
   "nbconvert_exporter": "python",
   "pygments_lexer": "ipython3",
   "version": "3.7.3"
  }
 },
 "nbformat": 4,
 "nbformat_minor": 4
}
