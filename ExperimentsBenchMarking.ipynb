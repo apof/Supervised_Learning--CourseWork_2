{
 "cells": [
  {
   "cell_type": "code",
   "execution_count": 11,
   "metadata": {},
   "outputs": [],
   "source": [
    "import utilities\n",
    "import matplotlib.pyplot as plt\n",
    "import numpy as np\n",
    "import AdaBoost\n",
    "import KernelPerceptron"
   ]
  },
  {
   "cell_type": "code",
   "execution_count": 12,
   "metadata": {},
   "outputs": [],
   "source": [
    "height = width = 16\n",
    "class_number = 10"
   ]
  },
  {
   "cell_type": "code",
   "execution_count": 13,
   "metadata": {},
   "outputs": [],
   "source": [
    "train_data = 'Datasets/full_dataset.dat'"
   ]
  },
  {
   "cell_type": "code",
   "execution_count": 14,
   "metadata": {},
   "outputs": [],
   "source": [
    "data,labels = utilities.read_data(train_data,width,height)"
   ]
  },
  {
   "cell_type": "code",
   "execution_count": 15,
   "metadata": {},
   "outputs": [
    {
     "name": "stdout",
     "output_type": "stream",
     "text": [
      "(7437, 256)\n",
      "(1860, 256)\n",
      "(7437,)\n",
      "(1860,)\n"
     ]
    }
   ],
   "source": [
    "train_data,test_data,train_labels,test_labels = utilities.data_split(data,labels,0.2)\n",
    "print(train_data.shape)\n",
    "print(test_data.shape)\n",
    "print(train_labels.shape)\n",
    "print(test_labels.shape)"
   ]
  },
  {
   "cell_type": "code",
   "execution_count": 16,
   "metadata": {},
   "outputs": [
    {
     "name": "stdout",
     "output_type": "stream",
     "text": [
      "1228 images of class 0 found\n",
      "1001 images of class 1 found\n",
      "747 images of class 2 found\n",
      "683 images of class 3 found\n",
      "698 images of class 4 found\n",
      "570 images of class 5 found\n",
      "664 images of class 6 found\n",
      "605 images of class 7 found\n",
      "577 images of class 8 found\n",
      "664 images of class 9 found\n",
      "Paired classifiers number: 45\n"
     ]
    }
   ],
   "source": [
    "data_per_class_dictionary = utilities.collect_each_class_images(train_data,train_labels,10)\n",
    "pair_datasets = utilities.create_1_VS_1_dataset(data_per_class_dictionary)\n",
    "print(\"Paired classifiers number: \" + str(len(pair_datasets)))"
   ]
  },
  {
   "cell_type": "code",
   "execution_count": 17,
   "metadata": {},
   "outputs": [
    {
     "name": "stdout",
     "output_type": "stream",
     "text": [
      "Training a classifier for: 0\n",
      "Training a classifier for: 1\n",
      "Training a classifier for: 2\n",
      "Training a classifier for: 3\n",
      "Training a classifier for: 4\n",
      "Training a classifier for: 5\n",
      "Training a classifier for: 6\n",
      "Training a classifier for: 7\n",
      "Training a classifier for: 8\n",
      "Training a classifier for: 9\n"
     ]
    }
   ],
   "source": [
    "#algorithm = 'AdaBoost'\n",
    "#parameters = [50]\n",
    "algorithm = 'KernelPerceptron'\n",
    "parameters = ['gaussian',0.5]\n",
    "models_dict = utilities.one_VS_all_training(data_per_class_dictionary,class_number,algorithm,parameters)\n",
    "#pair_models = utilities.one_vs_one_training(pair_datasets,algorithm,parameters)"
   ]
  },
  {
   "cell_type": "code",
   "execution_count": 18,
   "metadata": {},
   "outputs": [],
   "source": [
    "test_predictions = utilities.one_VS_all_testing(models_dict,test_data,test_labels)\n",
    "#test_predictions = utilities.one_vs_one_testing(pair_models,test_data,class_number)"
   ]
  },
  {
   "cell_type": "code",
   "execution_count": 19,
   "metadata": {},
   "outputs": [
    {
     "name": "stdout",
     "output_type": "stream",
     "text": [
      "90.96774193548387\n"
     ]
    }
   ],
   "source": [
    "print(utilities.calculate_accuracy(test_predictions,test_labels))"
   ]
  },
  {
   "cell_type": "code",
   "execution_count": 20,
   "metadata": {},
   "outputs": [
    {
     "name": "stdout",
     "output_type": "stream",
     "text": [
      "(0, 0) 0\n",
      "(0, 1) 0\n",
      "(0, 2) 2\n",
      "(0, 3) 3\n",
      "(0, 4) 3\n",
      "(0, 5) 7\n",
      "(0, 6) 4\n",
      "(0, 7) 0\n",
      "(0, 8) 1\n",
      "(0, 9) 4\n",
      "(1, 0) 2\n",
      "(1, 1) 0\n",
      "(1, 2) 2\n",
      "(1, 3) 4\n",
      "(1, 4) 2\n",
      "(1, 5) 0\n",
      "(1, 6) 2\n",
      "(1, 7) 3\n",
      "(1, 8) 2\n",
      "(1, 9) 3\n",
      "(2, 0) 0\n",
      "(2, 1) 0\n",
      "(2, 2) 0\n",
      "(2, 3) 4\n",
      "(2, 4) 2\n",
      "(2, 5) 1\n",
      "(2, 6) 1\n",
      "(2, 7) 0\n",
      "(2, 8) 1\n",
      "(2, 9) 0\n",
      "(3, 0) 2\n",
      "(3, 1) 0\n",
      "(3, 2) 1\n",
      "(3, 3) 0\n",
      "(3, 4) 4\n",
      "(3, 5) 8\n",
      "(3, 6) 0\n",
      "(3, 7) 1\n",
      "(3, 8) 4\n",
      "(3, 9) 0\n",
      "(4, 0) 1\n",
      "(4, 1) 2\n",
      "(4, 2) 2\n",
      "(4, 3) 2\n",
      "(4, 4) 0\n",
      "(4, 5) 1\n",
      "(4, 6) 0\n",
      "(4, 7) 1\n",
      "(4, 8) 1\n",
      "(4, 9) 1\n",
      "(5, 0) 2\n",
      "(5, 1) 1\n",
      "(5, 2) 2\n",
      "(5, 3) 5\n",
      "(5, 4) 2\n",
      "(5, 5) 0\n",
      "(5, 6) 1\n",
      "(5, 7) 0\n",
      "(5, 8) 2\n",
      "(5, 9) 1\n",
      "(6, 0) 0\n",
      "(6, 1) 0\n",
      "(6, 2) 3\n",
      "(6, 3) 0\n",
      "(6, 4) 1\n",
      "(6, 5) 1\n",
      "(6, 6) 0\n",
      "(6, 7) 0\n",
      "(6, 8) 0\n",
      "(6, 9) 1\n",
      "(7, 0) 3\n",
      "(7, 1) 0\n",
      "(7, 2) 9\n",
      "(7, 3) 2\n",
      "(7, 4) 4\n",
      "(7, 5) 2\n",
      "(7, 6) 0\n",
      "(7, 7) 0\n",
      "(7, 8) 6\n",
      "(7, 9) 4\n",
      "(8, 0) 2\n",
      "(8, 1) 0\n",
      "(8, 2) 0\n",
      "(8, 3) 4\n",
      "(8, 4) 0\n",
      "(8, 5) 2\n",
      "(8, 6) 1\n",
      "(8, 7) 0\n",
      "(8, 8) 0\n",
      "(8, 9) 0\n",
      "(9, 0) 1\n",
      "(9, 1) 0\n",
      "(9, 2) 3\n",
      "(9, 3) 1\n",
      "(9, 4) 9\n",
      "(9, 5) 0\n",
      "(9, 6) 6\n",
      "(9, 7) 2\n",
      "(9, 8) 1\n",
      "(9, 9) 0\n"
     ]
    }
   ],
   "source": [
    "utilities.confusion_matrix(test_predictions,test_labels)"
   ]
  }
 ],
 "metadata": {
  "kernelspec": {
   "display_name": "Python 3",
   "language": "python",
   "name": "python3"
  },
  "language_info": {
   "codemirror_mode": {
    "name": "ipython",
    "version": 3
   },
   "file_extension": ".py",
   "mimetype": "text/x-python",
   "name": "python",
   "nbconvert_exporter": "python",
   "pygments_lexer": "ipython3",
   "version": "3.6.7"
  }
 },
 "nbformat": 4,
 "nbformat_minor": 4
}
