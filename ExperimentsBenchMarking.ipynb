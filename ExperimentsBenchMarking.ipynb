{
 "cells": [
  {
   "cell_type": "code",
   "execution_count": 1,
   "metadata": {},
   "outputs": [],
   "source": [
    "import utilities\n",
    "import matplotlib.pyplot as plt\n",
    "import numpy as np\n",
    "import AdaBoost\n",
    "import KernelPerceptron"
   ]
  },
  {
   "cell_type": "code",
   "execution_count": 2,
   "metadata": {},
   "outputs": [],
   "source": [
    "height = width = 16"
   ]
  },
  {
   "cell_type": "code",
   "execution_count": 3,
   "metadata": {},
   "outputs": [],
   "source": [
    "train_data = 'Datasets/full_dataset.dat'"
   ]
  },
  {
   "cell_type": "code",
   "execution_count": 4,
   "metadata": {},
   "outputs": [],
   "source": [
    "data,labels = utilities.read_data(train_data,width,height)"
   ]
  },
  {
   "cell_type": "code",
   "execution_count": 5,
   "metadata": {},
   "outputs": [
    {
     "name": "stdout",
     "output_type": "stream",
     "text": [
      "(1446, 256)\n",
      "(620, 256)\n",
      "(1446,)\n",
      "(620,)\n"
     ]
    }
   ],
   "source": [
    "train_data,test_data,train_labels,test_labels = utilities.data_split(data,labels,0.3)\n",
    "print(train_data.shape)\n",
    "print(test_data.shape)\n",
    "print(train_labels.shape)\n",
    "print(test_labels.shape)"
   ]
  },
  {
   "cell_type": "code",
   "execution_count": 6,
   "metadata": {},
   "outputs": [
    {
     "name": "stdout",
     "output_type": "stream",
     "text": [
      "280 images of class 0 found\n",
      "244 images of class 1 found\n",
      "157 images of class 2 found\n",
      "101 images of class 3 found\n",
      "103 images of class 4 found\n",
      "69 images of class 5 found\n",
      "122 images of class 6 found\n",
      "141 images of class 7 found\n",
      "114 images of class 8 found\n",
      "115 images of class 9 found\n"
     ]
    }
   ],
   "source": [
    "data_per_class_dictionary = utilities.collect_each_class_images(train_data,train_labels,10)"
   ]
  },
  {
   "cell_type": "code",
   "execution_count": 7,
   "metadata": {},
   "outputs": [],
   "source": [
    "def one_VS_all_training(class_number,BOOSTING_ROUNDS,algorithm):\n",
    "    \n",
    "    models_dict = {}\n",
    "    for n in range(0,class_number):\n",
    "        print(\"Training a classifier for: \" + str(n))\n",
    "        dat,lbl = utilities.create_1_VS_others_dataset(n,data_per_class_dictionary)\n",
    "        model = None\n",
    "        \n",
    "        if(algorithm == 'adaboost'):\n",
    "            model = AdaBoost.AdaBoost()\n",
    "            model.fit(dat,lbl,BOOSTING_ROUNDS)\n",
    "        else:\n",
    "            model = KernelPerceptron.KernelPerceptron()\n",
    "            model.fit(dat,lbl,'gaussian')\n",
    "            \n",
    "        models_dict[n] = model\n",
    "        ##model.plot_learning_process()\n",
    "        \n",
    "    return models_dict"
   ]
  },
  {
   "cell_type": "code",
   "execution_count": 14,
   "metadata": {},
   "outputs": [],
   "source": [
    "def one_VS_all_testing(models_dict,data,labels,algorithm):\n",
    "    \n",
    "    models_confidence = []\n",
    "    for key in models_dict:\n",
    "        model = models_dict.get(key)\n",
    "        \n",
    "        confidence = None\n",
    "        \n",
    "        _,confidence = model.predict(data)\n",
    "                \n",
    "        models_confidence.append(confidence)\n",
    "        \n",
    "    predictions = []\n",
    "        \n",
    "    for i in range(len(data)):\n",
    "        results = []\n",
    "        for j in range(len(models_confidence)):\n",
    "            results.append((j,models_confidence[j][i]))\n",
    "            \n",
    "        ## return as the prediction of the i-th datum the prediction of the classifier with the highest confidence\n",
    "        predictions.append(sorted(results, key=lambda tup: tup[1],reverse = True)[0][0])\n",
    "        \n",
    "    return predictions"
   ]
  },
  {
   "cell_type": "code",
   "execution_count": 9,
   "metadata": {},
   "outputs": [],
   "source": [
    "#pair_datasets = utilities.create_1_VS_1_dataset(data_per_class_dictionary)\n",
    "#print(len(pair_datasets))"
   ]
  },
  {
   "cell_type": "code",
   "execution_count": 10,
   "metadata": {},
   "outputs": [],
   "source": [
    "def one_vs_one_training(pair_datasets):\n",
    "    \n",
    "    pairwise_models_dict = {}\n",
    "    \n",
    "    for  key in pair_datasets:\n",
    "        \n",
    "        (class_1,class_2) = key\n",
    "        \n",
    "        print(\"Training a classifier for pair: \" + str(class_1) + \" \" + str(class_2))\n",
    "        model = AdaBoost.AdaBoost()\n",
    "        model.fit(pair_datasets.get(key)[0],pair_datasets.get(key)[1],BOOSTING_ROUNDS)\n",
    "        \n",
    "        pairwise_models_dict[key] = model\n",
    "        \n",
    "    return pairwise_models_dict"
   ]
  },
  {
   "cell_type": "code",
   "execution_count": 11,
   "metadata": {},
   "outputs": [],
   "source": [
    "def one_vs_one_testing(pair_models,data,num_classes):\n",
    "    \n",
    "    predictions = []\n",
    "    \n",
    "    confidence_of_each_classifier = np.zeros((len(data),num_classes))\n",
    "    for  key in pair_models:\n",
    "        (class_1,class_2) = key\n",
    "        model = pair_models.get(key)\n",
    "        _,confidence = model.predict(data)\n",
    "        for i in range(len(confidence)):\n",
    "            if(confidence[i] > 0):\n",
    "                confidence_of_each_classifier[i][class_1] += abs(confidence[i])\n",
    "            else:\n",
    "                confidence_of_each_classifier[i][class_2] += abs(confidence[i])\n",
    "                \n",
    "    for result in confidence_of_each_classifier:\n",
    "        predictions.append(np.where(result == np.amax(result))[0][0])\n",
    "        \n",
    "    return predictions"
   ]
  },
  {
   "cell_type": "code",
   "execution_count": 12,
   "metadata": {},
   "outputs": [
    {
     "name": "stdout",
     "output_type": "stream",
     "text": [
      "Training a classifier for: 0\n",
      "Training a classifier for: 1\n",
      "Training a classifier for: 2\n",
      "Training a classifier for: 3\n",
      "Training a classifier for: 4\n",
      "Training a classifier for: 5\n",
      "Training a classifier for: 6\n",
      "Training a classifier for: 7\n",
      "Training a classifier for: 8\n",
      "Training a classifier for: 9\n"
     ]
    }
   ],
   "source": [
    "BOOSTING_ROUNDS = 50\n",
    "class_number = 10\n",
    "models_dict = one_VS_all_training(class_number,BOOSTING_ROUNDS,'kernel_perceptron')\n",
    "#pair_models = one_vs_one_training(pair_datasets)"
   ]
  },
  {
   "cell_type": "code",
   "execution_count": 15,
   "metadata": {},
   "outputs": [],
   "source": [
    "test_predictions = one_VS_all_testing(models_dict,test_data,test_labels,'kernel_perceptron')\n",
    "#test_predictions = one_vs_one_testing(pair_models,test_data,10)"
   ]
  },
  {
   "cell_type": "code",
   "execution_count": 16,
   "metadata": {},
   "outputs": [
    {
     "name": "stdout",
     "output_type": "stream",
     "text": [
      "89.83870967741936\n"
     ]
    }
   ],
   "source": [
    "print(utilities.calculate_accuracy(test_predictions,test_labels))"
   ]
  }
 ],
 "metadata": {
  "kernelspec": {
   "display_name": "Python 3",
   "language": "python",
   "name": "python3"
  },
  "language_info": {
   "codemirror_mode": {
    "name": "ipython",
    "version": 3
   },
   "file_extension": ".py",
   "mimetype": "text/x-python",
   "name": "python",
   "nbconvert_exporter": "python",
   "pygments_lexer": "ipython3",
   "version": "3.7.3"
  }
 },
 "nbformat": 4,
 "nbformat_minor": 4
}
