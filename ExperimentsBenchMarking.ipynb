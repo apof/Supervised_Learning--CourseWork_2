{
 "cells": [
  {
   "cell_type": "code",
   "execution_count": 1,
   "metadata": {},
   "outputs": [
    {
     "name": "stdout",
     "output_type": "stream",
     "text": [
      "Populating the interactive namespace from numpy and matplotlib\n"
     ]
    }
   ],
   "source": [
    "import utilities\n",
    "import matplotlib.pyplot as plt\n",
    "import numpy as np\n",
    "import AdaBoost\n",
    "import KernelPerceptron\n",
    "%pylab inline\n",
    "import matplotlib.pyplot as plt\n",
    "import matplotlib.image as mpimg"
   ]
  },
  {
   "cell_type": "code",
   "execution_count": 2,
   "metadata": {},
   "outputs": [],
   "source": [
    "height = width = 16\n",
    "class_number = 10"
   ]
  },
  {
   "cell_type": "code",
   "execution_count": 3,
   "metadata": {},
   "outputs": [],
   "source": [
    "train_data = 'Datasets/full_dataset.dat'"
   ]
  },
  {
   "cell_type": "code",
   "execution_count": 4,
   "metadata": {},
   "outputs": [],
   "source": [
    "data,labels = utilities.read_data(train_data,width,height)"
   ]
  },
  {
   "cell_type": "code",
   "execution_count": 5,
   "metadata": {},
   "outputs": [
    {
     "name": "stdout",
     "output_type": "stream",
     "text": [
      "(9297, 256)\n",
      "(9297, 256)\n",
      "(9297,)\n",
      "(9297,)\n"
     ]
    }
   ],
   "source": [
    "train_data = data\n",
    "train_labels = labels\n",
    "test_data = data\n",
    "test_labels = labels\n",
    "#train_data,test_data,train_labels,test_labels = utilities.data_split(data,labels,0.2)\n",
    "print(train_data.shape)\n",
    "print(test_data.shape)\n",
    "print(train_labels.shape)\n",
    "print(test_labels.shape)"
   ]
  },
  {
   "cell_type": "code",
   "execution_count": 6,
   "metadata": {},
   "outputs": [
    {
     "name": "stdout",
     "output_type": "stream",
     "text": [
      "1553 images of class 0 found\n",
      "1269 images of class 1 found\n",
      "929 images of class 2 found\n",
      "824 images of class 3 found\n",
      "852 images of class 4 found\n",
      "716 images of class 5 found\n",
      "833 images of class 6 found\n",
      "792 images of class 7 found\n",
      "708 images of class 8 found\n",
      "821 images of class 9 found\n",
      "Paired classifiers number: 45\n"
     ]
    }
   ],
   "source": [
    "data_per_class_dictionary = utilities.collect_each_class_images(train_data,train_labels,10)\n",
    "pair_datasets = utilities.create_1_VS_1_dataset(data_per_class_dictionary)\n",
    "print(\"Paired classifiers number: \" + str(len(pair_datasets)))"
   ]
  },
  {
   "cell_type": "code",
   "execution_count": 7,
   "metadata": {},
   "outputs": [
    {
     "name": "stdout",
     "output_type": "stream",
     "text": [
      "Training a classifier for: 0\n",
      "Training a classifier for: 1\n",
      "Training a classifier for: 2\n",
      "Training a classifier for: 3\n",
      "Training a classifier for: 4\n",
      "Training a classifier for: 5\n",
      "Training a classifier for: 6\n",
      "Training a classifier for: 7\n",
      "Training a classifier for: 8\n",
      "Training a classifier for: 9\n"
     ]
    }
   ],
   "source": [
    "algorithm = 'AdaBoost'\n",
    "parameters = [50]\n",
    "#algorithm = 'KernelPerceptron'\n",
    "#parameters = ['gaussian',0.5]\n",
    "models_dict = utilities.one_VS_all_training(data_per_class_dictionary,class_number,algorithm,parameters)\n",
    "#pair_models = utilities.one_vs_one_training(pair_datasets,algorithm,parameters)"
   ]
  },
  {
   "cell_type": "code",
   "execution_count": 8,
   "metadata": {},
   "outputs": [],
   "source": [
    "test_predictions,test_confidence = utilities.one_VS_all_testing(models_dict,test_data,test_labels)\n",
    "#test_predictions = utilities.one_vs_one_testing(pair_models,test_data,class_number)"
   ]
  },
  {
   "cell_type": "code",
   "execution_count": 9,
   "metadata": {},
   "outputs": [
    {
     "name": "stdout",
     "output_type": "stream",
     "text": [
      "[1880, 7709, 1400, 4274, 2341]\n"
     ]
    }
   ],
   "source": [
    "hard_items_indexes = utilities.get_lowest_confidence_items(test_confidence)\n",
    "print(hard_items_indexes)"
   ]
  },
  {
   "cell_type": "code",
   "execution_count": 10,
   "metadata": {},
   "outputs": [
    {
     "data": {
      "image/png": "[encoded data removed]",
      "text/plain": [
       "<Figure size 432x288 with 1 Axes>"
      ]
     },
     "metadata": {
      "needs_background": "light"
     },
     "output_type": "display_data"
    },
    {
     "data": {
      "image/png": "[encoded data removed]",
      "text/plain": [
       "<Figure size 432x288 with 1 Axes>"
      ]
     },
     "metadata": {
      "needs_background": "light"
     },
     "output_type": "display_data"
    },
    {
     "data": {
      "image/png": "[encoded data removed]",
      "text/plain": [
       "<Figure size 432x288 with 1 Axes>"
      ]
     },
     "metadata": {
      "needs_background": "light"
     },
     "output_type": "display_data"
    },
    {
     "data": {
      "image/png": "[encoded data removed]",
      "text/plain": [
       "<Figure size 432x288 with 1 Axes>"
      ]
     },
     "metadata": {
      "needs_background": "light"
     },
     "output_type": "display_data"
    },
    {
     "data": {
      "image/png": "[encoded data removed]",
      "text/plain": [
       "<Figure size 432x288 with 1 Axes>"
      ]
     },
     "metadata": {
      "needs_background": "light"
     },
     "output_type": "display_data"
    }
   ],
   "source": [
    "for index in hard_items_indexes:\n",
    "    imgplot = plt.imshow(test_data[index].reshape((16,16)))\n",
    "    plt.show()"
   ]
  },
  {
   "cell_type": "code",
   "execution_count": 11,
   "metadata": {},
   "outputs": [
    {
     "name": "stdout",
     "output_type": "stream",
     "text": [
      "93.14832741744648\n"
     ]
    }
   ],
   "source": [
    "print(utilities.calculate_accuracy(test_predictions,test_labels))"
   ]
  },
  {
   "cell_type": "code",
   "execution_count": 12,
   "metadata": {},
   "outputs": [
    {
     "name": "stdout",
     "output_type": "stream",
     "text": [
      "(0, 0) 0\n",
      "(0, 1) 0\n",
      "(0, 2) 8\n",
      "(0, 3) 7\n",
      "(0, 4) 3\n",
      "(0, 5) 9\n",
      "(0, 6) 10\n",
      "(0, 7) 2\n",
      "(0, 8) 16\n",
      "(0, 9) 1\n",
      "(1, 0) 1\n",
      "(1, 1) 0\n",
      "(1, 2) 2\n",
      "(1, 3) 1\n",
      "(1, 4) 10\n",
      "(1, 5) 0\n",
      "(1, 6) 2\n",
      "(1, 7) 2\n",
      "(1, 8) 3\n",
      "(1, 9) 3\n",
      "(2, 0) 2\n",
      "(2, 1) 0\n",
      "(2, 2) 0\n",
      "(2, 3) 23\n",
      "(2, 4) 23\n",
      "(2, 5) 10\n",
      "(2, 6) 11\n",
      "(2, 7) 4\n",
      "(2, 8) 9\n",
      "(2, 9) 4\n",
      "(3, 0) 4\n",
      "(3, 1) 2\n",
      "(3, 2) 15\n",
      "(3, 3) 0\n",
      "(3, 4) 0\n",
      "(3, 5) 52\n",
      "(3, 6) 0\n",
      "(3, 7) 1\n",
      "(3, 8) 15\n",
      "(3, 9) 2\n",
      "(4, 0) 8\n",
      "(4, 1) 2\n",
      "(4, 2) 28\n",
      "(4, 3) 1\n",
      "(4, 4) 0\n",
      "(4, 5) 22\n",
      "(4, 6) 8\n",
      "(4, 7) 9\n",
      "(4, 8) 8\n",
      "(4, 9) 10\n",
      "(5, 0) 5\n",
      "(5, 1) 0\n",
      "(5, 2) 6\n",
      "(5, 3) 24\n",
      "(5, 4) 1\n",
      "(5, 5) 0\n",
      "(5, 6) 8\n",
      "(5, 7) 2\n",
      "(5, 8) 6\n",
      "(5, 9) 1\n",
      "(6, 0) 4\n",
      "(6, 1) 0\n",
      "(6, 2) 3\n",
      "(6, 3) 1\n",
      "(6, 4) 17\n",
      "(6, 5) 28\n",
      "(6, 6) 0\n",
      "(6, 7) 0\n",
      "(6, 8) 3\n",
      "(6, 9) 0\n",
      "(7, 0) 1\n",
      "(7, 1) 0\n",
      "(7, 2) 12\n",
      "(7, 3) 6\n",
      "(7, 4) 4\n",
      "(7, 5) 0\n",
      "(7, 6) 0\n",
      "(7, 7) 0\n",
      "(7, 8) 4\n",
      "(7, 9) 21\n",
      "(8, 0) 0\n",
      "(8, 1) 1\n",
      "(8, 2) 18\n",
      "(8, 3) 8\n",
      "(8, 4) 5\n",
      "(8, 5) 7\n",
      "(8, 6) 5\n",
      "(8, 7) 3\n",
      "(8, 8) 0\n",
      "(8, 9) 9\n",
      "(9, 0) 1\n",
      "(9, 1) 0\n",
      "(9, 2) 1\n",
      "(9, 3) 2\n",
      "(9, 4) 30\n",
      "(9, 5) 10\n",
      "(9, 6) 0\n",
      "(9, 7) 21\n",
      "(9, 8) 6\n",
      "(9, 9) 0\n"
     ]
    }
   ],
   "source": [
    "utilities.confusion_matrix(test_predictions,test_labels)"
   ]
  }
 ],
 "metadata": {
  "kernelspec": {
   "display_name": "Python 3",
   "language": "python",
   "name": "python3"
  },
  "language_info": {
   "codemirror_mode": {
    "name": "ipython",
    "version": 3
   },
   "file_extension": ".py",
   "mimetype": "text/x-python",
   "name": "python",
   "nbconvert_exporter": "python",
   "pygments_lexer": "ipython3",
   "version": "3.6.7"
  }
 },
 "nbformat": 4,
 "nbformat_minor": 4
}
