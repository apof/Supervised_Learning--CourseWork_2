{
 "cells": [
  {
   "cell_type": "code",
   "execution_count": 1,
   "metadata": {},
   "outputs": [],
   "source": [
    "import matplotlib.pyplot as plt\n",
    "import numpy as np\n",
    "import AdaBoost\n",
    "import KernelPerceptron"
   ]
  },
  {
   "cell_type": "code",
   "execution_count": 2,
   "metadata": {},
   "outputs": [
    {
     "name": "stdout",
     "output_type": "stream",
     "text": [
      "(28, 28, 12000)\n",
      "(12000,)\n",
      "(28, 28, 1000)\n",
      "(1000,)\n"
     ]
    }
   ],
   "source": [
    "X_train = np.load(\"Datasets/Fashion_MNIST_Dataset/fashion-train-imgs.npz\")\n",
    "Y_train = np.load(\"Datasets/Fashion_MNIST_Dataset/fashion-train-labels.npz\")\n",
    "\n",
    "X_valid = np.load(\"Datasets/Fashion_MNIST_Dataset/fashion-dev-imgs.npz\")\n",
    "Y_valid = np.load(\"Datasets/Fashion_MNIST_Dataset/fashion-dev-labels.npz\")\n",
    "\n",
    "print(X_train.shape)\n",
    "print(Y_train.shape)\n",
    "print(X_valid.shape)\n",
    "print(Y_valid.shape)"
   ]
  },
  {
   "cell_type": "code",
   "execution_count": 3,
   "metadata": {},
   "outputs": [],
   "source": [
    "train_labels = []\n",
    "valid_labels = []\n",
    "\n",
    "for label in Y_train:\n",
    "    if(label == 0):\n",
    "        train_labels.append(-1)\n",
    "    else:\n",
    "        train_labels.append(1)\n",
    "        \n",
    "for label in Y_valid:\n",
    "    if(label == 0):\n",
    "        valid_labels.append(-1)\n",
    "    else:\n",
    "        valid_labels.append(1)\n",
    "        \n",
    "train_labels = np.array(train_labels)\n",
    "valid_labels = np.array(valid_labels)"
   ]
  },
  {
   "cell_type": "code",
   "execution_count": 4,
   "metadata": {},
   "outputs": [
    {
     "name": "stdout",
     "output_type": "stream",
     "text": [
      "(12000, 784)\n",
      "(1000, 784)\n",
      "(12000,)\n",
      "(1000,)\n"
     ]
    }
   ],
   "source": [
    "## flatten the 2d images into 1d arrays\n",
    "flat_X_train = []\n",
    "flat_X_valid = []\n",
    "\n",
    "for image in X_train.T:\n",
    "    flat_X_train.append(image.flatten())\n",
    "for image in X_valid.T:\n",
    "    flat_X_valid.append(image.flatten())\n",
    "    \n",
    "train_data = np.array(flat_X_train)\n",
    "valid_data = np.array(flat_X_valid)\n",
    "\n",
    "train_labels = train_labels\n",
    "valid_labels = valid_labels\n",
    "    \n",
    "print(train_data.shape)\n",
    "print(valid_data.shape)\n",
    "print(train_labels.shape)\n",
    "print(valid_labels.shape)\n",
    "\n",
    "train_data = train_data[0:5000]\n",
    "train_labels = train_labels[0:5000]"
   ]
  },
  {
   "cell_type": "code",
   "execution_count": 5,
   "metadata": {},
   "outputs": [
    {
     "name": "stdout",
     "output_type": "stream",
     "text": [
      "Training for epoch 0\n",
      "Training for epoch 1\n",
      "Training for epoch 2\n",
      "Training for epoch 3\n",
      "Training for epoch 4\n"
     ]
    }
   ],
   "source": [
    "model = KernelPerceptron.KernelPerceptron(['gaussian',0.1])\n",
    "model.fit(train_data,train_labels)"
   ]
  },
  {
   "cell_type": "code",
   "execution_count": 6,
   "metadata": {},
   "outputs": [],
   "source": [
    "train_error = (model.predict(train_data)[0] != train_labels).mean()"
   ]
  },
  {
   "cell_type": "code",
   "execution_count": 7,
   "metadata": {},
   "outputs": [
    {
     "name": "stdout",
     "output_type": "stream",
     "text": [
      "Error on the trainig set is: 0.0\n"
     ]
    }
   ],
   "source": [
    "print(\"Error on the trainig set is: \" + str(train_error))"
   ]
  },
  {
   "cell_type": "code",
   "execution_count": 8,
   "metadata": {},
   "outputs": [],
   "source": [
    "valid_error = (model.predict(valid_data)[0] != valid_labels).mean()"
   ]
  },
  {
   "cell_type": "code",
   "execution_count": 9,
   "metadata": {},
   "outputs": [
    {
     "name": "stdout",
     "output_type": "stream",
     "text": [
      "Error on the validation set is: 0.027\n"
     ]
    }
   ],
   "source": [
    "print(\"Error on the validation set is: \" + str(valid_error))"
   ]
  },
  {
   "cell_type": "code",
   "execution_count": 10,
   "metadata": {},
   "outputs": [
    {
     "data": {
      "text/plain": [
       "array([ 1.,  1.,  1., -1., -1.,  1.,  1.,  1.,  1.,  1.])"
      ]
     },
     "execution_count": 10,
     "metadata": {},
     "output_type": "execute_result"
    }
   ],
   "source": [
    "model.predict(valid_data)[0][0:10]"
   ]
  }
 ],
 "metadata": {
  "kernelspec": {
   "display_name": "Python 3",
   "language": "python",
   "name": "python3"
  },
  "language_info": {
   "codemirror_mode": {
    "name": "ipython",
    "version": 3
   },
   "file_extension": ".py",
   "mimetype": "text/x-python",
   "name": "python",
   "nbconvert_exporter": "python",
   "pygments_lexer": "ipython3",
   "version": "3.6.7"
  }
 },
 "nbformat": 4,
 "nbformat_minor": 4
}
