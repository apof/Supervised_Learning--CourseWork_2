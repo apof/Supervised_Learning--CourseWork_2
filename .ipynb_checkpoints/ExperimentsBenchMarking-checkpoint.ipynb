{
 "cells": [
  {
   "cell_type": "code",
   "execution_count": 62,
   "metadata": {},
   "outputs": [],
   "source": [
    "import utilities\n",
    "import matplotlib.pyplot as plt\n",
    "import numpy as np\n",
    "import AdaBoost"
   ]
  },
  {
   "cell_type": "code",
   "execution_count": 63,
   "metadata": {},
   "outputs": [
    {
     "name": "stdout",
     "output_type": "stream",
     "text": [
      "1\n"
     ]
    }
   ],
   "source": [
    "a = np.array([[1,2,3], [4,3,1]])  # Can be of any shape\n",
    "indices = np.where(a == a.max())\n",
    "print(indices[0][0])"
   ]
  },
  {
   "cell_type": "code",
   "execution_count": 64,
   "metadata": {},
   "outputs": [],
   "source": [
    "height = width = 16"
   ]
  },
  {
   "cell_type": "code",
   "execution_count": 65,
   "metadata": {},
   "outputs": [],
   "source": [
    "train_data = 'Datasets/full_dataset.dat'"
   ]
  },
  {
   "cell_type": "code",
   "execution_count": 66,
   "metadata": {},
   "outputs": [],
   "source": [
    "data,labels = utilities.read_data(train_data,width,height)"
   ]
  },
  {
   "cell_type": "code",
   "execution_count": 67,
   "metadata": {},
   "outputs": [
    {
     "name": "stdout",
     "output_type": "stream",
     "text": [
      "(1446, 256)\n",
      "(620, 256)\n",
      "(1446,)\n",
      "(620,)\n"
     ]
    }
   ],
   "source": [
    "train_data,test_data,train_labels,test_labels = utilities.data_split(data,labels,0.3)\n",
    "print(train_data.shape)\n",
    "print(test_data.shape)\n",
    "print(train_labels.shape)\n",
    "print(test_labels.shape)"
   ]
  },
  {
   "cell_type": "code",
   "execution_count": 68,
   "metadata": {},
   "outputs": [
    {
     "name": "stdout",
     "output_type": "stream",
     "text": [
      "287 images of class 0 found\n",
      "233 images of class 1 found\n",
      "163 images of class 2 found\n",
      "104 images of class 3 found\n",
      "106 images of class 4 found\n",
      "84 images of class 5 found\n",
      "116 images of class 6 found\n",
      "132 images of class 7 found\n",
      "103 images of class 8 found\n",
      "118 images of class 9 found\n"
     ]
    }
   ],
   "source": [
    "data_per_class_dictionary = utilities.collect_each_class_images(train_data,train_labels,10)"
   ]
  },
  {
   "cell_type": "code",
   "execution_count": 69,
   "metadata": {},
   "outputs": [],
   "source": [
    "def one_VS_all_training(class_number,BOOSTING_ROUNDS):\n",
    "    \n",
    "    models_dict = {}\n",
    "    for n in range(0,class_number):\n",
    "        print(\"Training a classifier for: \" + str(n))\n",
    "        dat,lbl = utilities.create_1_VS_others_dataset(n,data_per_class_dictionary)\n",
    "        model = AdaBoost.AdaBoost()\n",
    "        model.fit(dat,lbl,BOOSTING_ROUNDS)\n",
    "        models_dict[n] = model\n",
    "        ##model.plot_learning_process()\n",
    "        \n",
    "    return models_dict"
   ]
  },
  {
   "cell_type": "code",
   "execution_count": 70,
   "metadata": {},
   "outputs": [],
   "source": [
    "def one_VS_all_testing(models_dict,data):\n",
    "    \n",
    "    models_confidence = []\n",
    "    for key in models_dict:\n",
    "        model = models_dict.get(key)\n",
    "        _,confidence = model.predict(data)\n",
    "        models_confidence.append(confidence)\n",
    "        \n",
    "    predictions = []\n",
    "        \n",
    "    for i in range(len(data)):\n",
    "        results = []\n",
    "        for j in range(len(models_confidence)):\n",
    "            results.append((j,models_confidence[j][i]))\n",
    "            \n",
    "        ## return as the prediction of the i-th datum the prediction of the classifier with the highest confidence\n",
    "        predictions.append(sorted(results, key=lambda tup: tup[1],reverse = True)[0][0])\n",
    "        \n",
    "    return predictions"
   ]
  },
  {
   "cell_type": "code",
   "execution_count": 71,
   "metadata": {},
   "outputs": [
    {
     "name": "stdout",
     "output_type": "stream",
     "text": [
      "45\n"
     ]
    }
   ],
   "source": [
    "pair_datasets = utilities.create_1_VS_1_dataset(data_per_class_dictionary)\n",
    "print(len(pair_datasets))"
   ]
  },
  {
   "cell_type": "code",
   "execution_count": 72,
   "metadata": {},
   "outputs": [],
   "source": [
    "def one_vs_one_training(pair_datasets):\n",
    "    \n",
    "    pairwise_models_dict = {}\n",
    "    \n",
    "    for  key in pair_datasets:\n",
    "        \n",
    "        (class_1,class_2) = key\n",
    "        \n",
    "        print(\"Training a classifier for pair: \" + str(class_1) + \" \" + str(class_2))\n",
    "        model = AdaBoost.AdaBoost()\n",
    "        model.fit(pair_datasets.get(key)[0],pair_datasets.get(key)[1],BOOSTING_ROUNDS)\n",
    "        \n",
    "        pairwise_models_dict[key] = model\n",
    "        \n",
    "    return pairwise_models_dict"
   ]
  },
  {
   "cell_type": "code",
   "execution_count": 73,
   "metadata": {},
   "outputs": [],
   "source": [
    "def one_vs_one_testing(pair_models,data,num_classes):\n",
    "    \n",
    "    predictions = []\n",
    "    \n",
    "    confidence_of_each_classifier = np.zeros((len(data),num_classes))\n",
    "    for  key in pair_models:\n",
    "        (class_1,class_2) = key\n",
    "        model = pair_models.get(key)\n",
    "        _,confidence = model.predict(data)\n",
    "        for i in range(len(confidence)):\n",
    "            if(confidence[i] > 0):\n",
    "                confidence_of_each_classifier[i][class_1] += abs(confidence[i])\n",
    "            else:\n",
    "                confidence_of_each_classifier[i][class_2] += abs(confidence[i])\n",
    "                \n",
    "    for result in confidence_of_each_classifier:\n",
    "        predictions.append(np.where(result == np.amax(result))[0][0])\n",
    "        \n",
    "    return predictions"
   ]
  },
  {
   "cell_type": "code",
   "execution_count": 74,
   "metadata": {},
   "outputs": [
    {
     "name": "stdout",
     "output_type": "stream",
     "text": [
      "Training a classifier for pair: 0 1\n",
      "Training a classifier for pair: 0 2\n",
      "Training a classifier for pair: 0 3\n",
      "Training a classifier for pair: 0 4\n",
      "Training a classifier for pair: 0 5\n",
      "Training a classifier for pair: 0 6\n",
      "Training a classifier for pair: 0 7\n",
      "Training a classifier for pair: 0 8\n",
      "Training a classifier for pair: 0 9\n",
      "Training a classifier for pair: 1 2\n",
      "Training a classifier for pair: 1 3\n",
      "Training a classifier for pair: 1 4\n",
      "Training a classifier for pair: 1 5\n",
      "Training a classifier for pair: 1 6\n",
      "Training a classifier for pair: 1 7\n",
      "Training a classifier for pair: 1 8\n",
      "Training a classifier for pair: 1 9\n",
      "Training a classifier for pair: 2 3\n",
      "Training a classifier for pair: 2 4\n",
      "Training a classifier for pair: 2 5\n",
      "Training a classifier for pair: 2 6\n",
      "Training a classifier for pair: 2 7\n",
      "Training a classifier for pair: 2 8\n",
      "Training a classifier for pair: 2 9\n",
      "Training a classifier for pair: 3 4\n",
      "Training a classifier for pair: 3 5\n",
      "Training a classifier for pair: 3 6\n",
      "Training a classifier for pair: 3 7\n",
      "Training a classifier for pair: 3 8\n",
      "Training a classifier for pair: 3 9\n",
      "Training a classifier for pair: 4 5\n",
      "Training a classifier for pair: 4 6\n",
      "Training a classifier for pair: 4 7\n",
      "Training a classifier for pair: 4 8\n",
      "Training a classifier for pair: 4 9\n",
      "Training a classifier for pair: 5 6\n",
      "Training a classifier for pair: 5 7\n",
      "Training a classifier for pair: 5 8\n",
      "Training a classifier for pair: 5 9\n",
      "Training a classifier for pair: 6 7\n",
      "Training a classifier for pair: 6 8\n",
      "Training a classifier for pair: 6 9\n",
      "Training a classifier for pair: 7 8\n",
      "Training a classifier for pair: 7 9\n",
      "Training a classifier for pair: 8 9\n"
     ]
    }
   ],
   "source": [
    "BOOSTING_ROUNDS = 50\n",
    "class_number = 10\n",
    "#models_dict = one_VS_all_training(class_number,BOOSTING_ROUNDS)\n",
    "pair_models = one_vs_one_training(pair_datasets)"
   ]
  },
  {
   "cell_type": "code",
   "execution_count": 75,
   "metadata": {},
   "outputs": [],
   "source": [
    "#test_predictions = one_VS_all_testing(models_dict,test_data)\n",
    "test_predictions = one_vs_one_testing(pair_models,test_data,10)"
   ]
  },
  {
   "cell_type": "code",
   "execution_count": 76,
   "metadata": {},
   "outputs": [
    {
     "name": "stdout",
     "output_type": "stream",
     "text": [
      "85.0\n"
     ]
    }
   ],
   "source": [
    "print(utilities.calculate_accuracy(test_predictions,test_labels))"
   ]
  },
  {
   "cell_type": "code",
   "execution_count": null,
   "metadata": {},
   "outputs": [],
   "source": []
  }
 ],
 "metadata": {
  "kernelspec": {
   "display_name": "Python 3",
   "language": "python",
   "name": "python3"
  },
  "language_info": {
   "codemirror_mode": {
    "name": "ipython",
    "version": 3
   },
   "file_extension": ".py",
   "mimetype": "text/x-python",
   "name": "python",
   "nbconvert_exporter": "python",
   "pygments_lexer": "ipython3",
   "version": "3.7.3"
  }
 },
 "nbformat": 4,
 "nbformat_minor": 4
}
