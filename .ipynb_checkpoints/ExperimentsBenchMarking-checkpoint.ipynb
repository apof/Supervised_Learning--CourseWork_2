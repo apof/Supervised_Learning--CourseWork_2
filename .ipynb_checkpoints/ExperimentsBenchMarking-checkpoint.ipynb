{
 "cells": [
  {
   "cell_type": "code",
   "execution_count": 1,
   "metadata": {},
   "outputs": [
    {
     "name": "stdout",
     "output_type": "stream",
     "text": [
      "Populating the interactive namespace from numpy and matplotlib\n"
     ]
    }
   ],
   "source": [
    "import utilities\n",
    "import matplotlib.pyplot as plt\n",
    "import numpy as np\n",
    "import AdaBoost\n",
    "import KernelPerceptron\n",
    "%pylab inline\n",
    "import matplotlib.pyplot as plt\n",
    "import matplotlib.image as mpimg"
   ]
  },
  {
   "cell_type": "code",
   "execution_count": 2,
   "metadata": {},
   "outputs": [],
   "source": [
    "height = width = 16\n",
    "class_number = 10\n",
    "N = 2\n",
    "\n",
    "train_type = 'one_Vs_all'\n",
    "#train_type = 'one_Vs_one'\n",
    "\n",
    "#algorithm = 'AdaBoost'\n",
    "#algorithm = 'KernelPerceptron'\n",
    "algorithm = 'SVM'\n",
    "\n",
    "#kernel_type = 'gaussian'\n",
    "#kernel_type = 'polynomial'\n",
    "kernel_type = ' '\n",
    "\n",
    "#parameters = [1,2,3,4,5,6,7]\n",
    "#parameters = [0.01,0.1,1]\n",
    "#parameters = [30,50,60]\n",
    "parameters = [0.5,1,1.5]\n",
    "\n",
    "EXPERIMENT_TYPE = 1"
   ]
  },
  {
   "cell_type": "code",
   "execution_count": 3,
   "metadata": {},
   "outputs": [
    {
     "name": "stdout",
     "output_type": "stream",
     "text": [
      "(9297, 256)\n",
      "(9297,)\n"
     ]
    }
   ],
   "source": [
    "train_data = 'Datasets/full_dataset.dat'\n",
    "data,labels = utilities.read_data(train_data,width,height)\n",
    "print(data.shape)\n",
    "print(labels.shape)"
   ]
  },
  {
   "cell_type": "code",
   "execution_count": 4,
   "metadata": {},
   "outputs": [
    {
     "name": "stdout",
     "output_type": "stream",
     "text": [
      "Paired classifiers number: 45\n",
      "one_Vs_all training for algorithm SVM with params [' ', 0.5] and random split 1\n",
      "one_Vs_all training for algorithm SVM with params [' ', 1.0] and random split 1\n",
      "one_Vs_all training for algorithm SVM with params [' ', 1.0] and random split 1\n",
      "one_Vs_all training for algorithm SVM with params [' ', 5.0] and random split 1\n",
      "Paired classifiers number: 45\n",
      "one_Vs_all training for algorithm SVM with params [' ', 0.5] and random split 2\n",
      "one_Vs_all training for algorithm SVM with params [' ', 1.0] and random split 2\n",
      "one_Vs_all training for algorithm SVM with params [' ', 1.0] and random split 2\n",
      "one_Vs_all training for algorithm SVM with params [' ', 5.0] and random split 2\n",
      "Mean error and std for parameter: 0.5 is 96.29032258064517 - 0.8602150537634401\n",
      "Mean error and std for parameter: 1 is 96.77419354838709 - 0.7526881720430083\n",
      "Mean error and std for parameter: 1 is 96.77419354838709 - 0.7526881720430083\n",
      "Mean error and std for parameter: 5 is 97.58064516129032 - 0.48387096774193594\n"
     ]
    }
   ],
   "source": [
    "if(EXPERIMENT_TYPE == 1):\n",
    "    \n",
    "    ## N runs for random train test configurations\n",
    "    results = np.zeros((N,len(parameters)))\n",
    "\n",
    "    for run_index in range(0,N):\n",
    "    \n",
    "        train_data,test_data,train_labels,test_labels = utilities.data_split(data,labels,0.2)\n",
    "    \n",
    "        data_per_class_dictionary = utilities.collect_each_class_images(train_data,train_labels,class_number)\n",
    "        pair_datasets = utilities.create_1_VS_1_dataset(data_per_class_dictionary)\n",
    "        print(\"Paired classifiers number: \" + str(len(pair_datasets)))\n",
    "\n",
    "        #print(train_data.shape)\n",
    "        #print(test_data.shape)\n",
    "        #print(train_labels.shape)\n",
    "        #print(test_labels.shape)\n",
    "        for i in range(0,len(parameters)):\n",
    "        \n",
    "            param = parameters[i]\n",
    "        \n",
    "            param_list = []\n",
    "            param_list = param_list + [kernel_type]\n",
    "            param_list  = param_list + [float(param)]\n",
    "            print(train_type + \" training for algorithm \" + algorithm + \" with params \" + str(param_list) +  \" and random split \" + str(run_index+1))\n",
    "        \n",
    "            models_dict = None\n",
    "            pair_models = None\n",
    "            if(train_type == 'one_Vs_all'):\n",
    "                models_dict = utilities.one_VS_all_training(data_per_class_dictionary,class_number,algorithm,param_list)\n",
    "            else:\n",
    "                pair_models = utilities.one_vs_one_training(pair_datasets,algorithm,param_list)\n",
    "         \n",
    "            test_predictions = None\n",
    "            if(train_type == 'one_Vs_all'):\n",
    "                test_predictions,test_confidence,average_confidence = utilities.one_VS_all_testing(algorithm,models_dict,test_data,test_labels)\n",
    "            else:\n",
    "                test_predictions = utilities.one_vs_one_testing(algorithm,pair_models,test_data,class_number)\n",
    "           \n",
    "            results[run_index][i] = utilities.calculate_accuracy(test_predictions,test_labels)\n",
    "            \n",
    "    for i in range(results.T.shape[0]):\n",
    "        print(\"Mean error and std for parameter: \" + str(parameters[i]) + \" is \" + str(np.mean(results.T[i])) + \" - \" + str(np.std(results.T[i])))"
   ]
  },
  {
   "cell_type": "code",
   "execution_count": 5,
   "metadata": {},
   "outputs": [],
   "source": [
    "#hard_items_indexes_1,hard_items_indexes_2 = utilities.get_hardest_to_predict_items(test_confidence,average_confidence,test_predictions,test_labels)\n",
    "#print(hard_items_indexes_1)\n",
    "#print(hard_items_indexes_2)\n",
    "#hard_items_indexes = hard_items_indexes_2\n",
    "#for index in hard_items_indexes:\n",
    "#    imgplot = plt.imshow(test_data[index].reshape((16,16)))\n",
    "#    plt.show()\n",
    "\n",
    "#utilities.confusion_matrix(test_predictions,test_labels)"
   ]
  }
 ],
 "metadata": {
  "kernelspec": {
   "display_name": "Python 3",
   "language": "python",
   "name": "python3"
  },
  "language_info": {
   "codemirror_mode": {
    "name": "ipython",
    "version": 3
   },
   "file_extension": ".py",
   "mimetype": "text/x-python",
   "name": "python",
   "nbconvert_exporter": "python",
   "pygments_lexer": "ipython3",
   "version": "3.6.7"
  }
 },
 "nbformat": 4,
 "nbformat_minor": 4
}
