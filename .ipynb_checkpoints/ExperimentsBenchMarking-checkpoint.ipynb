{
 "cells": [
  {
   "cell_type": "code",
   "execution_count": 1,
   "metadata": {},
   "outputs": [
    {
     "name": "stdout",
     "output_type": "stream",
     "text": [
      "Populating the interactive namespace from numpy and matplotlib\n"
     ]
    }
   ],
   "source": [
    "import utilities\n",
    "import matplotlib.pyplot as plt\n",
    "import numpy as np\n",
    "import AdaBoost\n",
    "import KernelPerceptron\n",
    "%pylab inline\n",
    "import matplotlib.pyplot as plt\n",
    "import matplotlib.image as mpimg\n",
    "from mpl_toolkits.axes_grid1 import ImageGrid"
   ]
  },
  {
   "cell_type": "code",
   "execution_count": 2,
   "metadata": {},
   "outputs": [],
   "source": [
    "height = width = 16\n",
    "class_number = 10\n",
    "N = 20\n",
    "\n",
    "train_type = 'one_Vs_all'\n",
    "#train_type = 'one_Vs_one'\n",
    "\n",
    "#algorithm = 'AdaBoost'\n",
    "algorithm = 'KernelPerceptron'\n",
    "#algorithm = 'SVM'\n",
    "\n",
    "\n",
    "#kernel_type = 'gaussian'\n",
    "kernel_type = 'polynomial'\n",
    "#kernel_type = ' '\n",
    "\n",
    "parameters = [1,2,3,4,5,6,7]\n",
    "\n",
    "#parameters = [0.01,0.1,0.6,1,2,5]\n",
    "#parameters = [0.005,0.008,0.01,0.02,0.04]\n",
    "\n",
    "#parameters = [30,40,50,60,70]\n",
    "#parameters = [60,80,100]\n",
    "\n",
    "#parameters = [0.1,0.5,1,1.5,2,3,4,5,6]\n",
    "#parameters = [4,5,6]\n",
    "\n",
    "EXPERIMENT_TYPE = 2"
   ]
  },
  {
   "cell_type": "code",
   "execution_count": 3,
   "metadata": {},
   "outputs": [
    {
     "name": "stdout",
     "output_type": "stream",
     "text": [
      "(9297, 256)\n",
      "(9297,)\n"
     ]
    }
   ],
   "source": [
    "train_data = 'Datasets/full_dataset.dat'\n",
    "data,labels = utilities.read_data(train_data,width,height)\n",
    "print(data.shape)\n",
    "print(labels.shape)"
   ]
  },
  {
   "cell_type": "code",
   "execution_count": 4,
   "metadata": {},
   "outputs": [],
   "source": [
    "#data = data[0:1000]\n",
    "#labels = labels[0:1000]"
   ]
  },
  {
   "cell_type": "code",
   "execution_count": 5,
   "metadata": {},
   "outputs": [],
   "source": [
    "#utilities.get_average_confusions(confusion_error_list)\n",
    "if(EXPERIMENT_TYPE == 1):\n",
    "    \n",
    "    ## N runs for random train test configurations\n",
    "    results = np.zeros((N,len(parameters)))\n",
    "    \n",
    "    #confusion_error_list = []\n",
    "\n",
    "    for run_index in range(0,N):\n",
    "    \n",
    "        train_data,test_data,train_labels,test_labels,_ = utilities.data_split(data,labels,0.2)\n",
    "    \n",
    "        data_per_class_dictionary = utilities.collect_each_class_images(train_data,train_labels,class_number)\n",
    "        pair_datasets = utilities.create_1_VS_1_dataset(data_per_class_dictionary)\n",
    "        #print(\"Paired classifiers number: \" + str(len(pair_datasets)))\n",
    "\n",
    "        #print(train_data.shape)\n",
    "        #print(test_data.shape)\n",
    "        #print(train_labels.shape)\n",
    "        #print(test_labels.shape)\n",
    "        for i in range(0,len(parameters)):\n",
    "        \n",
    "            param = parameters[i]\n",
    "        \n",
    "            param_list = []\n",
    "            param_list = param_list + [kernel_type]\n",
    "            param_list  = param_list + [float(param)]\n",
    "            print(train_type + \" training for algorithm \" + algorithm + \" with params \" + str(param_list) +  \" and random split \" + str(run_index+1))\n",
    "        \n",
    "            models_dict = None\n",
    "            pair_models = None\n",
    "            if(train_type == 'one_Vs_all'):\n",
    "                models_dict = utilities.one_VS_all_training(data_per_class_dictionary,class_number,algorithm,param_list)\n",
    "            else:\n",
    "                pair_models = utilities.one_vs_one_training(pair_datasets,algorithm,param_list)\n",
    "         \n",
    "            test_predictions = None\n",
    "            if(train_type == 'one_Vs_all'):\n",
    "                test_predictions,test_confidence,average_confidence = utilities.one_VS_all_testing(algorithm,models_dict,test_data,test_labels)\n",
    "            else:\n",
    "                test_predictions = utilities.one_vs_one_testing(algorithm,pair_models,test_data,class_number)\n",
    "           \n",
    "            results[run_index][i] = utilities.calculate_accuracy(test_predictions,test_labels)\n",
    "            \n",
    "            #confusion_error = utilities.confusion_matrix(test_predictions,test_labels)\n",
    "            \n",
    "            #confusion_error_list.append(confusion_error)\n",
    "            \n",
    "            \n",
    "    for i in range(results.T.shape[0]):\n",
    "        print(\"Mean error and std for parameter: \" + str(parameters[i]) + \" is \" + str(np.mean(results.T[i])) + \" - \" + str(np.std(results.T[i])))\n",
    "        \n",
    "    #utilities.get_average_confusions(confusion_error_list)"
   ]
  },
  {
   "cell_type": "code",
   "execution_count": 6,
   "metadata": {},
   "outputs": [
    {
     "name": "stdout",
     "output_type": "stream",
     "text": [
      "------------------------------------------------\n",
      "(('index_of_round:', 1309), ('confidence:', 237747412591.0422), ('global_index:', 9267), ('prediction:', 3), ('true_label:', 5))\n",
      "(('index_of_round:', 891), ('confidence:', 213068232698.88428), ('global_index:', 7757), ('prediction:', 1), ('true_label:', 9))\n",
      "(('index_of_round:', 1269), ('confidence:', 149426610570.48773), ('global_index:', 8501), ('prediction:', 4), ('true_label:', 9))\n",
      "(('index_of_round:', 1185), ('confidence:', 143822013007.422), ('global_index:', 8043), ('prediction:', 0), ('true_label:', 6))\n",
      "(('index_of_round:', 621), ('confidence:', 138095031001.9923), ('global_index:', 4260), ('prediction:', 1), ('true_label:', 2))\n"
     ]
    },
    {
     "data": {
      "image/png": "[encoded data removed]",
      "text/plain": [
       "<Figure size 576x576 with 10 Axes>"
      ]
     },
     "metadata": {
      "needs_background": "light"
     },
     "output_type": "display_data"
    },
    {
     "name": "stdout",
     "output_type": "stream",
     "text": [
      "------------------------------------------------\n",
      "(('index_of_round:', 79), ('confidence:', 460443730759.5764), ('global_index:', 8260), ('prediction:', 1), ('true_label:', 4))\n",
      "(('index_of_round:', 283), ('confidence:', 239354601993.01157), ('global_index:', 9241), ('prediction:', 8), ('true_label:', 5))\n",
      "(('index_of_round:', 1602), ('confidence:', 182367582608.5209), ('global_index:', 314), ('prediction:', 1), ('true_label:', 6))\n",
      "(('index_of_round:', 880), ('confidence:', 175094807692.61234), ('global_index:', 1569), ('prediction:', 6), ('true_label:', 5))\n",
      "(('index_of_round:', 1270), ('confidence:', 167302388599.336), ('global_index:', 7946), ('prediction:', 7), ('true_label:', 3))\n"
     ]
    },
    {
     "data": {
      "image/png": "[encoded data removed]",
      "text/plain": [
       "<Figure size 576x576 with 10 Axes>"
      ]
     },
     "metadata": {
      "needs_background": "light"
     },
     "output_type": "display_data"
    },
    {
     "name": "stdout",
     "output_type": "stream",
     "text": [
      "------------------------------------------------\n",
      "(('index_of_round:', 997), ('confidence:', 3.014378531954099e+16), ('global_index:', 8260), ('prediction:', 1), ('true_label:', 4))\n",
      "(('index_of_round:', 419), ('confidence:', 8899820422685809.0), ('global_index:', 9104), ('prediction:', 4), ('true_label:', 1))\n",
      "(('index_of_round:', 615), ('confidence:', 6561915154123080.0), ('global_index:', 8336), ('prediction:', 4), ('true_label:', 7))\n",
      "(('index_of_round:', 650), ('confidence:', 4739540281269590.0), ('global_index:', 4813), ('prediction:', 4), ('true_label:', 6))\n",
      "(('index_of_round:', 1569), ('confidence:', 3104349878473911.0), ('global_index:', 314), ('prediction:', 1), ('true_label:', 6))\n"
     ]
    },
    {
     "data": {
      "image/png": "[encoded data removed]",
      "text/plain": [
       "<Figure size 576x576 with 10 Axes>"
      ]
     },
     "metadata": {
      "needs_background": "light"
     },
     "output_type": "display_data"
    },
    {
     "name": "stdout",
     "output_type": "stream",
     "text": [
      "------------------------------------------------\n",
      "(('index_of_round:', 442), ('confidence:', 3087767652.952362), ('global_index:', 8260), ('prediction:', 1), ('true_label:', 4))\n",
      "(('index_of_round:', 1111), ('confidence:', 2243052122.9403896), ('global_index:', 8336), ('prediction:', 4), ('true_label:', 7))\n",
      "(('index_of_round:', 894), ('confidence:', 1450393334.280611), ('global_index:', 8284), ('prediction:', 4), ('true_label:', 0))\n",
      "(('index_of_round:', 218), ('confidence:', 631647798.7583003), ('global_index:', 2464), ('prediction:', 2), ('true_label:', 5))\n",
      "(('index_of_round:', 741), ('confidence:', 567417647.9617977), ('global_index:', 719), ('prediction:', 1), ('true_label:', 6))\n"
     ]
    },
    {
     "data": {
      "image/png": "[encoded data removed]",
      "text/plain": [
       "<Figure size 576x576 with 10 Axes>"
      ]
     },
     "metadata": {
      "needs_background": "light"
     },
     "output_type": "display_data"
    },
    {
     "name": "stdout",
     "output_type": "stream",
     "text": [
      "------------------------------------------------\n",
      "(('index_of_round:', 1512), ('confidence:', 251958495368.4231), ('global_index:', 7757), ('prediction:', 1), ('true_label:', 9))\n",
      "(('index_of_round:', 1397), ('confidence:', 228713916749.98224), ('global_index:', 2166), ('prediction:', 7), ('true_label:', 9))\n",
      "(('index_of_round:', 123), ('confidence:', 227901563021.53418), ('global_index:', 8336), ('prediction:', 4), ('true_label:', 7))\n",
      "(('index_of_round:', 438), ('confidence:', 221499874376.57953), ('global_index:', 8083), ('prediction:', 9), ('true_label:', 5))\n",
      "(('index_of_round:', 967), ('confidence:', 127050140064.21127), ('global_index:', 8383), ('prediction:', 5), ('true_label:', 3))\n"
     ]
    },
    {
     "data": {
      "image/png": "[encoded data removed]",
      "text/plain": [
       "<Figure size 576x576 with 10 Axes>"
      ]
     },
     "metadata": {
      "needs_background": "light"
     },
     "output_type": "display_data"
    },
    {
     "name": "stdout",
     "output_type": "stream",
     "text": [
      "------------------------------------------------\n",
      "(('index_of_round:', 1774), ('confidence:', 51689126265584.445), ('global_index:', 1569), ('prediction:', 6), ('true_label:', 5))\n",
      "(('index_of_round:', 1486), ('confidence:', 39144919196585.016), ('global_index:', 3135), ('prediction:', 9), ('true_label:', 7))\n",
      "(('index_of_round:', 1465), ('confidence:', 30768925130241.125), ('global_index:', 4129), ('prediction:', 9), ('true_label:', 7))\n",
      "(('index_of_round:', 295), ('confidence:', 27107478411560.016), ('global_index:', 9012), ('prediction:', 5), ('true_label:', 3))\n",
      "(('index_of_round:', 246), ('confidence:', 25327674427928.8), ('global_index:', 8501), ('prediction:', 4), ('true_label:', 9))\n"
     ]
    },
    {
     "data": {
      "image/png": "[encoded data removed]",
      "text/plain": [
       "<Figure size 576x576 with 10 Axes>"
      ]
     },
     "metadata": {
      "needs_background": "light"
     },
     "output_type": "display_data"
    },
    {
     "name": "stdout",
     "output_type": "stream",
     "text": [
      "------------------------------------------------\n",
      "(('index_of_round:', 1575), ('confidence:', 309383362269.03314), ('global_index:', 3079), ('prediction:', 7), ('true_label:', 9))\n",
      "(('index_of_round:', 682), ('confidence:', 298435276900.8081), ('global_index:', 5215), ('prediction:', 7), ('true_label:', 9))\n",
      "(('index_of_round:', 1565), ('confidence:', 202492181397.86694), ('global_index:', 6759), ('prediction:', 7), ('true_label:', 5))\n",
      "(('index_of_round:', 1160), ('confidence:', 149645548950.9373), ('global_index:', 8284), ('prediction:', 4), ('true_label:', 0))\n",
      "(('index_of_round:', 1516), ('confidence:', 124305967321.32845), ('global_index:', 7706), ('prediction:', 5), ('true_label:', 3))\n"
     ]
    },
    {
     "data": {
      "image/png": "[encoded data removed]",
      "text/plain": [
       "<Figure size 576x576 with 10 Axes>"
      ]
     },
     "metadata": {
      "needs_background": "light"
     },
     "output_type": "display_data"
    },
    {
     "name": "stdout",
     "output_type": "stream",
     "text": [
      "------------------------------------------------\n",
      "(('index_of_round:', 459), ('confidence:', 445798257425.0596), ('global_index:', 8260), ('prediction:', 1), ('true_label:', 4))\n",
      "(('index_of_round:', 290), ('confidence:', 345898948824.7338), ('global_index:', 8501), ('prediction:', 4), ('true_label:', 9))\n",
      "(('index_of_round:', 370), ('confidence:', 263936079851.06195), ('global_index:', 8834), ('prediction:', 4), ('true_label:', 9))\n",
      "(('index_of_round:', 1304), ('confidence:', 258684872335.38934), ('global_index:', 2358), ('prediction:', 4), ('true_label:', 5))\n",
      "(('index_of_round:', 560), ('confidence:', 230511138485.36145), ('global_index:', 8643), ('prediction:', 4), ('true_label:', 7))\n"
     ]
    },
    {
     "data": {
      "image/png": "[encoded data removed]",
      "text/plain": [
       "<Figure size 576x576 with 10 Axes>"
      ]
     },
     "metadata": {
      "needs_background": "light"
     },
     "output_type": "display_data"
    },
    {
     "name": "stdout",
     "output_type": "stream",
     "text": [
      "------------------------------------------------\n",
      "(('index_of_round:', 1406), ('confidence:', 1057697909.3926775), ('global_index:', 8501), ('prediction:', 4), ('true_label:', 9))\n",
      "(('index_of_round:', 44), ('confidence:', 921157746.902792), ('global_index:', 6253), ('prediction:', 4), ('true_label:', 8))\n",
      "(('index_of_round:', 1809), ('confidence:', 892347731.7239523), ('global_index:', 9241), ('prediction:', 8), ('true_label:', 5))\n",
      "(('index_of_round:', 577), ('confidence:', 853702587.0639145), ('global_index:', 3036), ('prediction:', 1), ('true_label:', 4))\n",
      "(('index_of_round:', 1036), ('confidence:', 628547263.8810188), ('global_index:', 7706), ('prediction:', 5), ('true_label:', 3))\n"
     ]
    },
    {
     "data": {
      "image/png": "[encoded data removed]",
      "text/plain": [
       "<Figure size 576x576 with 10 Axes>"
      ]
     },
     "metadata": {
      "needs_background": "light"
     },
     "output_type": "display_data"
    },
    {
     "name": "stdout",
     "output_type": "stream",
     "text": [
      "------------------------------------------------\n",
      "(('index_of_round:', 1399), ('confidence:', 599203452259.7808), ('global_index:', 2339), ('prediction:', 1), ('true_label:', 4))\n",
      "(('index_of_round:', 1111), ('confidence:', 437449225767.26), ('global_index:', 8260), ('prediction:', 1), ('true_label:', 4))\n",
      "(('index_of_round:', 658), ('confidence:', 270161247334.18787), ('global_index:', 8336), ('prediction:', 4), ('true_label:', 7))\n",
      "(('index_of_round:', 703), ('confidence:', 199668366042.01605), ('global_index:', 8501), ('prediction:', 4), ('true_label:', 9))\n",
      "(('index_of_round:', 823), ('confidence:', 166947887676.1764), ('global_index:', 719), ('prediction:', 1), ('true_label:', 6))\n"
     ]
    },
    {
     "data": {
      "image/png": "[encoded data removed]",
      "text/plain": [
       "<Figure size 576x576 with 10 Axes>"
      ]
     },
     "metadata": {
      "needs_background": "light"
     },
     "output_type": "display_data"
    },
    {
     "name": "stdout",
     "output_type": "stream",
     "text": [
      "------------------------------------------------\n",
      "(('index_of_round:', 1451), ('confidence:', 158371725872.66718), ('global_index:', 5469), ('prediction:', 7), ('true_label:', 9))\n",
      "(('index_of_round:', 1293), ('confidence:', 116413876114.56815), ('global_index:', 8204), ('prediction:', 7), ('true_label:', 2))\n",
      "(('index_of_round:', 513), ('confidence:', 93838815817.79486), ('global_index:', 622), ('prediction:', 8), ('true_label:', 3))\n",
      "(('index_of_round:', 1069), ('confidence:', 91794705628.67535), ('global_index:', 8284), ('prediction:', 4), ('true_label:', 0))\n",
      "(('index_of_round:', 436), ('confidence:', 72042319203.08093), ('global_index:', 9041), ('prediction:', 3), ('true_label:', 5))\n"
     ]
    },
    {
     "data": {
      "image/png": "[encoded data removed]",
      "text/plain": [
       "<Figure size 576x576 with 10 Axes>"
      ]
     },
     "metadata": {
      "needs_background": "light"
     },
     "output_type": "display_data"
    },
    {
     "name": "stdout",
     "output_type": "stream",
     "text": [
      "------------------------------------------------\n",
      "(('index_of_round:', 1207), ('confidence:', 2776976302.2650633), ('global_index:', 8260), ('prediction:', 1), ('true_label:', 4))\n",
      "(('index_of_round:', 1274), ('confidence:', 1377042861.2588587), ('global_index:', 622), ('prediction:', 8), ('true_label:', 3))\n",
      "(('index_of_round:', 229), ('confidence:', 1171544861.2832017), ('global_index:', 8501), ('prediction:', 4), ('true_label:', 9))\n",
      "(('index_of_round:', 151), ('confidence:', 1124990751.2479024), ('global_index:', 2342), ('prediction:', 1), ('true_label:', 2))\n",
      "(('index_of_round:', 1836), ('confidence:', 1057418854.5593996), ('global_index:', 8598), ('prediction:', 4), ('true_label:', 1))\n"
     ]
    },
    {
     "data": {
      "image/png": "[encoded data removed]",
      "text/plain": [
       "<Figure size 576x576 with 10 Axes>"
      ]
     },
     "metadata": {
      "needs_background": "light"
     },
     "output_type": "display_data"
    },
    {
     "name": "stdout",
     "output_type": "stream",
     "text": [
      "------------------------------------------------\n",
      "(('index_of_round:', 968), ('confidence:', 242148168293297.1), ('global_index:', 5295), ('prediction:', 1), ('true_label:', 4))\n",
      "(('index_of_round:', 852), ('confidence:', 48019285513773.984), ('global_index:', 8437), ('prediction:', 7), ('true_label:', 4))\n",
      "(('index_of_round:', 1179), ('confidence:', 29129626291455.688), ('global_index:', 1957), ('prediction:', 4), ('true_label:', 9))\n",
      "(('index_of_round:', 79), ('confidence:', 21197137604481.676), ('global_index:', 3298), ('prediction:', 0), ('true_label:', 8))\n",
      "(('index_of_round:', 507), ('confidence:', 19796575714421.836), ('global_index:', 4170), ('prediction:', 6), ('true_label:', 0))\n"
     ]
    },
    {
     "data": {
      "image/png": "[encoded data removed]",
      "text/plain": [
       "<Figure size 576x576 with 10 Axes>"
      ]
     },
     "metadata": {
      "needs_background": "light"
     },
     "output_type": "display_data"
    },
    {
     "name": "stdout",
     "output_type": "stream",
     "text": [
      "------------------------------------------------\n",
      "(('index_of_round:', 942), ('confidence:', 3414785588.322668), ('global_index:', 5295), ('prediction:', 1), ('true_label:', 4))\n",
      "(('index_of_round:', 729), ('confidence:', 1030686512.4549575), ('global_index:', 8624), ('prediction:', 6), ('true_label:', 1))\n",
      "(('index_of_round:', 385), ('confidence:', 892701326.6688056), ('global_index:', 2166), ('prediction:', 7), ('true_label:', 9))\n",
      "(('index_of_round:', 85), ('confidence:', 823459233.7888585), ('global_index:', 3688), ('prediction:', 3), ('true_label:', 8))\n",
      "(('index_of_round:', 1496), ('confidence:', 741347100.3548429), ('global_index:', 5752), ('prediction:', 3), ('true_label:', 5))\n"
     ]
    },
    {
     "data": {
      "image/png": "[encoded data removed]",
      "text/plain": [
       "<Figure size 576x576 with 10 Axes>"
      ]
     },
     "metadata": {
      "needs_background": "light"
     },
     "output_type": "display_data"
    },
    {
     "name": "stdout",
     "output_type": "stream",
     "text": [
      "------------------------------------------------\n",
      "(('index_of_round:', 1232), ('confidence:', 478608870664.22424), ('global_index:', 2339), ('prediction:', 1), ('true_label:', 4))\n",
      "(('index_of_round:', 763), ('confidence:', 268869436391.97888), ('global_index:', 7523), ('prediction:', 6), ('true_label:', 1))\n",
      "(('index_of_round:', 1068), ('confidence:', 238770682158.72876), ('global_index:', 324), ('prediction:', 8), ('true_label:', 3))\n",
      "(('index_of_round:', 394), ('confidence:', 230800850997.86526), ('global_index:', 8336), ('prediction:', 4), ('true_label:', 7))\n",
      "(('index_of_round:', 370), ('confidence:', 184670746505.13257), ('global_index:', 8834), ('prediction:', 4), ('true_label:', 9))\n"
     ]
    },
    {
     "data": {
      "image/png": "[encoded data removed]",
      "text/plain": [
       "<Figure size 576x576 with 10 Axes>"
      ]
     },
     "metadata": {
      "needs_background": "light"
     },
     "output_type": "display_data"
    },
    {
     "name": "stdout",
     "output_type": "stream",
     "text": [
      "------------------------------------------------\n",
      "(('index_of_round:', 1411), ('confidence:', 298750685755.1832), ('global_index:', 1569), ('prediction:', 6), ('true_label:', 5))\n",
      "(('index_of_round:', 257), ('confidence:', 284662343894.91675), ('global_index:', 8260), ('prediction:', 1), ('true_label:', 4))\n",
      "(('index_of_round:', 48), ('confidence:', 222788102684.85114), ('global_index:', 9023), ('prediction:', 9), ('true_label:', 4))\n",
      "(('index_of_round:', 827), ('confidence:', 152143222380.7011), ('global_index:', 1741), ('prediction:', 6), ('true_label:', 5))\n",
      "(('index_of_round:', 1251), ('confidence:', 150937888778.27795), ('global_index:', 4163), ('prediction:', 5), ('true_label:', 3))\n"
     ]
    },
    {
     "data": {
      "image/png": "[encoded data removed]",
      "text/plain": [
       "<Figure size 576x576 with 10 Axes>"
      ]
     },
     "metadata": {
      "needs_background": "light"
     },
     "output_type": "display_data"
    },
    {
     "name": "stdout",
     "output_type": "stream",
     "text": [
      "------------------------------------------------\n",
      "(('index_of_round:', 99), ('confidence:', 3912894527.8967705), ('global_index:', 2339), ('prediction:', 1), ('true_label:', 4))\n",
      "(('index_of_round:', 420), ('confidence:', 2150669215.222228), ('global_index:', 2699), ('prediction:', 9), ('true_label:', 4))\n",
      "(('index_of_round:', 884), ('confidence:', 1280186589.7731612), ('global_index:', 381), ('prediction:', 2), ('true_label:', 7))\n",
      "(('index_of_round:', 71), ('confidence:', 1195894988.8115158), ('global_index:', 8083), ('prediction:', 9), ('true_label:', 5))\n",
      "(('index_of_round:', 1583), ('confidence:', 1058598473.8163384), ('global_index:', 644), ('prediction:', 1), ('true_label:', 4))\n"
     ]
    },
    {
     "data": {
      "image/png": "[encoded data removed]",
      "text/plain": [
       "<Figure size 576x576 with 10 Axes>"
      ]
     },
     "metadata": {
      "needs_background": "light"
     },
     "output_type": "display_data"
    },
    {
     "name": "stdout",
     "output_type": "stream",
     "text": [
      "------------------------------------------------\n",
      "(('index_of_round:', 1825), ('confidence:', 64203497364062.5), ('global_index:', 5144), ('prediction:', 1), ('true_label:', 8))\n",
      "(('index_of_round:', 1674), ('confidence:', 57624173660207.67), ('global_index:', 9255), ('prediction:', 4), ('true_label:', 1))\n",
      "(('index_of_round:', 614), ('confidence:', 42982469777139.88), ('global_index:', 6253), ('prediction:', 4), ('true_label:', 8))\n",
      "(('index_of_round:', 1857), ('confidence:', 36500754824544.98), ('global_index:', 1569), ('prediction:', 6), ('true_label:', 5))\n",
      "(('index_of_round:', 805), ('confidence:', 34678478353468.81), ('global_index:', 9103), ('prediction:', 4), ('true_label:', 1))\n"
     ]
    },
    {
     "data": {
      "image/png": "[encoded data removed]",
      "text/plain": [
       "<Figure size 576x576 with 10 Axes>"
      ]
     },
     "metadata": {
      "needs_background": "light"
     },
     "output_type": "display_data"
    },
    {
     "name": "stdout",
     "output_type": "stream",
     "text": [
      "------------------------------------------------\n",
      "(('index_of_round:', 643), ('confidence:', 138415164085239.0), ('global_index:', 8260), ('prediction:', 1), ('true_label:', 4))\n",
      "(('index_of_round:', 537), ('confidence:', 88653032000729.67), ('global_index:', 5144), ('prediction:', 1), ('true_label:', 8))\n",
      "(('index_of_round:', 8), ('confidence:', 48379561004676.555), ('global_index:', 8336), ('prediction:', 4), ('true_label:', 7))\n",
      "(('index_of_round:', 515), ('confidence:', 43465663458599.45), ('global_index:', 3636), ('prediction:', 5), ('true_label:', 7))\n",
      "(('index_of_round:', 1375), ('confidence:', 36443503622345.56), ('global_index:', 1569), ('prediction:', 6), ('true_label:', 5))\n"
     ]
    },
    {
     "data": {
      "image/png": "[encoded data removed]",
      "text/plain": [
       "<Figure size 576x576 with 10 Axes>"
      ]
     },
     "metadata": {
      "needs_background": "light"
     },
     "output_type": "display_data"
    },
    {
     "name": "stdout",
     "output_type": "stream",
     "text": [
      "------------------------------------------------\n",
      "(('index_of_round:', 1335), ('confidence:', 1.5152682676240636e+16), ('global_index:', 5144), ('prediction:', 1), ('true_label:', 8))\n",
      "(('index_of_round:', 1472), ('confidence:', 8335733197898022.0), ('global_index:', 8336), ('prediction:', 4), ('true_label:', 7))\n",
      "(('index_of_round:', 1579), ('confidence:', 7395567213264590.0), ('global_index:', 6253), ('prediction:', 4), ('true_label:', 8))\n",
      "(('index_of_round:', 795), ('confidence:', 6697788203393955.0), ('global_index:', 7523), ('prediction:', 6), ('true_label:', 1))\n",
      "(('index_of_round:', 273), ('confidence:', 4404897725448647.0), ('global_index:', 5974), ('prediction:', 8), ('true_label:', 5))\n"
     ]
    },
    {
     "data": {
      "image/png": "[encoded data removed]",
      "text/plain": [
       "<Figure size 576x576 with 10 Axes>"
      ]
     },
     "metadata": {
      "needs_background": "light"
     },
     "output_type": "display_data"
    },
    {
     "name": "stdout",
     "output_type": "stream",
     "text": [
      "[8260, 5144, 9104, 8336, 6253]\n",
      "[(1, 4), (1, 8), (4, 1), (4, 7), (4, 8)]\n"
     ]
    },
    {
     "data": {
      "image/png": "[encoded data removed]",
      "text/plain": [
       "<Figure size 576x576 with 10 Axes>"
      ]
     },
     "metadata": {
      "needs_background": "light"
     },
     "output_type": "display_data"
    },
    {
     "name": "stdout",
     "output_type": "stream",
     "text": [
      "[(2.3655913978494625, 5), (2.849462365591398, 5), (1.989247311827957, 7), (3.118279569892473, 4), (2.849462365591398, 5), (2.956989247311828, 6), (2.795698924731183, 5), (3.225806451612903, 5), (2.903225806451613, 4), (3.2795698924731185, 5), (2.956989247311828, 5), (2.795698924731183, 4), (2.741935483870968, 6), (2.849462365591398, 4), (3.2795698924731185, 5), (2.741935483870968, 5), (2.6881720430107525, 4), (3.494623655913978, 6), (2.6881720430107525, 6), (2.903225806451613, 7)]\n",
      "--------\n",
      "Mean error: 2.873655913978495\n",
      "Std error: 0.32189667632296537\n",
      "Mean param: 5.15\n",
      "Std param: 0.9096702699330126\n",
      "--------\n",
      "(0, 0) (0.0, 0.0)\n",
      "(0, 1) (0.01798561151079137, 0.07839746301332147)\n",
      "(0, 2) (0.3489490620427424, 0.3879559566825819)\n",
      "(0, 3) (0.23728033470355628, 0.3517960669966245)\n",
      "(0, 4) (0.12074327967260161, 0.2415857602145861)\n",
      "(0, 5) (0.6840150481968019, 0.8151968392512308)\n",
      "(0, 6) (0.6473806913969786, 0.7031467316699538)\n",
      "(0, 7) (0.0, 0.0)\n",
      "(0, 8) (0.6733264410297398, 0.7411183633394931)\n",
      "(0, 9) (0.27680213643868845, 0.4066605942505078)\n",
      "(1, 0) (0.06498149504687782, 0.1301533858453853)\n",
      "(1, 1) (0.0, 0.0)\n",
      "(1, 2) (0.21416167914092754, 0.31657040873659753)\n",
      "(1, 3) (0.1807988839522578, 0.38765760229218854)\n",
      "(1, 4) (0.5907200491501714, 0.6050349913409621)\n",
      "(1, 5) (0.03289473684210526, 0.14338483366910107)\n",
      "(1, 6) (0.4985034531068503, 0.37533700694856575)\n",
      "(1, 7) (0.1523094845387507, 0.3236701141954357)\n",
      "(1, 8) (0.6740591239732013, 0.5891679016440015)\n",
      "(1, 9) (0.24042339058478665, 0.3545479970313895)\n",
      "(2, 0) (0.1631649421670669, 0.21928651668116256)\n",
      "(2, 1) (0.05812450307212817, 0.13866683759429285)\n",
      "(2, 2) (0.0, 0.0)\n",
      "(2, 3) (0.5678859094867865, 0.4743442734476669)\n",
      "(2, 4) (0.7999444314269905, 0.8194983143231748)\n",
      "(2, 5) (0.47576021522402423, 0.6031595327204179)\n",
      "(2, 6) (0.24946847960002233, 0.36664574648106185)\n",
      "(2, 7) (0.6542476559786226, 0.7568699196145168)\n",
      "(2, 8) (0.6902867468336049, 0.7104128798274361)\n",
      "(2, 9) (0.15059879380141572, 0.314621034870286)\n",
      "(3, 0) (0.09744951647035564, 0.1490784483588067)\n",
      "(3, 1) (0.021739130434782608, 0.09475867268566682)\n",
      "(3, 2) (0.6306522762819482, 0.604088702412679)\n",
      "(3, 3) (0.0, 0.0)\n",
      "(3, 4) (0.05919024936957131, 0.17760183161554413)\n",
      "(3, 5) (1.0728954881103558, 1.030221199123239)\n",
      "(3, 6) (0.0, 0.0)\n",
      "(3, 7) (0.10005584512285928, 0.31166819850009075)\n",
      "(3, 8) (0.9922333231616858, 0.7813560756839132)\n",
      "(3, 9) (0.18437757718391007, 0.28199240289728916)\n",
      "(4, 0) (0.09562683171648967, 0.14632326629699624)\n",
      "(4, 1) (0.23884765678751077, 0.36197605799214266)\n",
      "(4, 2) (0.3861876620542971, 0.47114546155972997)\n",
      "(4, 3) (0.06066715542521994, 0.18240800340107588)\n",
      "(4, 4) (0.0, 0.0)\n",
      "(4, 5) (0.6914194803719884, 0.5837316187191132)\n",
      "(4, 6) (0.3678315707988687, 0.4009378710904949)\n",
      "(4, 7) (0.6422594724482361, 0.5638155779856996)\n",
      "(4, 8) (0.5906765061671113, 0.6511721716705602)\n",
      "(4, 9) (1.2457962442376411, 0.8165747784652727)\n",
      "(5, 0) (0.11252573467826617, 0.20864228923844255)\n",
      "(5, 1) (0.0, 0.0)\n",
      "(5, 2) (0.07384526662686432, 0.17637694472594306)\n",
      "(5, 3) (1.7971631653922806, 0.8888579864080627)\n",
      "(5, 4) (0.08622307387339764, 0.20573809592397568)\n",
      "(5, 5) (0.0, 0.0)\n",
      "(5, 6) (0.18651292508961054, 0.3891568035042673)\n",
      "(5, 7) (0.09529959688466205, 0.30705606533333535)\n",
      "(5, 8) (1.2679335120550512, 0.9369015144601721)\n",
      "(5, 9) (0.09278429568284641, 0.29476829693905277)\n",
      "(6, 0) (0.34861276994860746, 0.4203109900988573)\n",
      "(6, 1) (0.15843346169508093, 0.22955735917243167)\n",
      "(6, 2) (0.13499762482186167, 0.23383238354770908)\n",
      "(6, 3) (0.0, 0.0)\n",
      "(6, 4) (0.37677453807651673, 0.550575691675709)\n",
      "(6, 5) (0.9899875688604032, 0.754154555920372)\n",
      "(6, 6) (0.0, 0.0)\n",
      "(6, 7) (0.0, 0.0)\n",
      "(6, 8) (0.45805955165200124, 0.5575290844571535)\n",
      "(6, 9) (0.0, 0.0)\n",
      "(7, 0) (0.08197058431257312, 0.17326389118223023)\n",
      "(7, 1) (0.05814128861003861, 0.1845635032160683)\n",
      "(7, 2) (0.4796285793794139, 0.5603736312073382)\n",
      "(7, 3) (0.6135721688067758, 0.46901397918541715)\n",
      "(7, 4) (0.31863089793711136, 0.3315863997194788)\n",
      "(7, 5) (0.06515280135823429, 0.19546877305579136)\n",
      "(7, 6) (0.02958579881656805, 0.12896150720534535)\n",
      "(7, 7) (0.0, 0.0)\n",
      "(7, 8) (0.4637911875580903, 0.5517324517064042)\n",
      "(7, 9) (1.2575185894503218, 1.5080349592980573)\n",
      "(8, 0) (0.09645661254768774, 0.14755631824151233)\n",
      "(8, 1) (0.037602487984167376, 0.11282163476537278)\n",
      "(8, 2) (0.2188651727242598, 0.3207369368300639)\n",
      "(8, 3) (1.1800620803960251, 0.9191715705950235)\n",
      "(8, 4) (0.1414496784570906, 0.2457734770435638)\n",
      "(8, 5) (0.4094622575321993, 0.33541249536403156)\n",
      "(8, 6) (0.27145467133138224, 0.4030121352770841)\n",
      "(8, 7) (0.3214439055421467, 0.4341584584873577)\n",
      "(8, 8) (0.0, 0.0)\n",
      "(8, 9) (0.1796087931521093, 0.27469863083575713)\n",
      "(9, 0) (0.0633639606943169, 0.12675674936643835)\n",
      "(9, 1) (0.0, 0.0)\n",
      "(9, 2) (0.02702702702702703, 0.11780807955515334)\n",
      "(9, 3) (0.26566116590262634, 0.3457513570555063)\n",
      "(9, 4) (0.5532272512840966, 0.5450647353788557)\n",
      "(9, 5) (0.5695188217778377, 0.6373287813115347)\n",
      "(9, 6) (0.0, 0.0)\n",
      "(9, 7) (1.0573622440948744, 0.7969124630710485)\n",
      "(9, 8) (0.4287288074294243, 0.4725405881055536)\n",
      "(9, 9) (0.0, 0.0)\n"
     ]
    }
   ],
   "source": [
    "if(EXPERIMENT_TYPE == 2):\n",
    "    \n",
    "    results = []\n",
    "    \n",
    "    confusion_error_list = []\n",
    "    \n",
    "    hardest_to_predict_dict = {}\n",
    "    \n",
    "    for run_index in range(0,N):\n",
    "        \n",
    "        print(\"------------------------------------------------\")\n",
    "        \n",
    "        ## make a random split (80%-20%) on the dataset\n",
    "        train_data,final_test_data,train_labels,final_test_labels, test_indexes = utilities.data_split(data,labels,0.2)\n",
    "        \n",
    "        cross_valid_results = np.zeros((5,len(parameters)))\n",
    "    \n",
    "        ## then perform 5-k cross validation to find the best parameter on it\n",
    "        for k in range(5):\n",
    "            ## given a validation round split the training data into training and validation data of the round\n",
    "            validation_indexes,training_indexes = utilities.cross_validation(k,len(train_data),5)\n",
    "            round_train_data,round_train_labels,round_valid_data,round_valid_labels = utilities.get_train_test_set(validation_indexes,training_indexes,train_data,train_labels)\n",
    "            \n",
    "            data_per_class_dictionary = utilities.collect_each_class_images(round_train_data,round_train_labels,class_number)\n",
    "            pair_datasets = utilities.create_1_VS_1_dataset(data_per_class_dictionary)\n",
    "        \n",
    "            ## for every cross validation round check all the parameters\n",
    "            for i in range(0,len(parameters)):\n",
    "                param = parameters[i]\n",
    "                param_list = []\n",
    "                param_list = param_list + [kernel_type]\n",
    "                param_list  = param_list + [float(param)]\n",
    "                #print(train_type + \" training for algorithm \" + algorithm + \" with params \" + str(param_list) +  \" random split \" + str(run_index+1) + \" and cross validation round: \" + str(k + 1))\n",
    "        \n",
    "                models_dict = None\n",
    "                pair_models = None\n",
    "                if(train_type == 'one_Vs_all'):\n",
    "                    models_dict = utilities.one_VS_all_training(data_per_class_dictionary,class_number,algorithm,param_list)\n",
    "                else:\n",
    "                    pair_models = utilities.one_vs_one_training(pair_datasets,algorithm,param_list)\n",
    "         \n",
    "                test_predictions = None\n",
    "                if(train_type == 'one_Vs_all'):\n",
    "                    test_predictions,test_confidence,average_confidence = utilities.one_VS_all_testing(algorithm,models_dict,round_valid_data,round_valid_labels)\n",
    "                else:\n",
    "                    test_predictions = utilities.one_vs_one_testing(algorithm,pair_models,round_valid_data,class_number)\n",
    "            \n",
    "                cross_valid_results[k][i] = utilities.calculate_accuracy(test_predictions,round_valid_labels)\n",
    "    \n",
    "        best_param_list = []\n",
    "        ## find the best parameter of this validation round\n",
    "        ## computing the average error for each parameter for each split\n",
    "        cross_valid_results = cross_valid_results.T\n",
    "        for i in range(cross_valid_results.shape[0]):\n",
    "            best_param_list.append((i,np.mean(cross_valid_results[i])))\n",
    "        \n",
    "        ## get the best result and the parameter for which the result achieved\n",
    "        best_param_list = sorted(best_param_list, key=lambda tup: tup[1],reverse = False)\n",
    "        \n",
    "        best_param = parameters[best_param_list[0][0]]\n",
    "        \n",
    "        #print(\"Best Parameter for run round \" + str(run_index+1) + \" is \" + str(best_param) + \" with error: \" + str(best_param_list[0][1]))\n",
    "        \n",
    "        ## now retrain in full 80% dataset and test for the remaining hidden 20% test set\n",
    "        data_per_class_dictionary = utilities.collect_each_class_images(train_data,train_labels,class_number)\n",
    "        pair_datasets = utilities.create_1_VS_1_dataset(data_per_class_dictionary)\n",
    "        \n",
    "        param = best_param\n",
    "        param_list = []\n",
    "        param_list = param_list + [kernel_type]\n",
    "        param_list  = param_list + [float(param)]\n",
    "        #print(train_type + \" training for algorithm \" + algorithm + \" with params \" + str(param_list) + \" for the full dataset\")\n",
    "        \n",
    "        models_dict = None\n",
    "        pair_models = None\n",
    "        if(train_type == 'one_Vs_all'):\n",
    "            models_dict = utilities.one_VS_all_training(data_per_class_dictionary,class_number,algorithm,param_list)\n",
    "        else:\n",
    "            pair_models = utilities.one_vs_one_training(pair_datasets,algorithm,param_list)\n",
    "         \n",
    "        ## test on the remaining 20% which was hidden through the cross validation\n",
    "        test_predictions = None\n",
    "        if(train_type == 'one_Vs_all'):\n",
    "            test_predictions,test_confidence,average_confidence = utilities.one_VS_all_testing(algorithm,models_dict,final_test_data,final_test_labels)\n",
    "        else:\n",
    "            test_predictions = utilities.one_vs_one_testing(algorithm,pair_models,final_test_data,class_number)\n",
    "         \n",
    "        accuracy = utilities.calculate_accuracy(test_predictions,final_test_labels)\n",
    "        results.append((accuracy,best_param))\n",
    "        \n",
    "        confusion_error_list.append(utilities.confusion_matrix(test_predictions,final_test_labels))\n",
    "        \n",
    "        if(train_type == 'one_Vs_all'):\n",
    "            hard_items_indexes,_ = utilities.get_hardest_to_predict_items(test_confidence,average_confidence,test_predictions,final_test_labels,test_indexes)\n",
    "\n",
    "            ## find the 5 hardest indexes of this round\n",
    "            hardest_to_predict_dict[run_index] = hard_items_indexes\n",
    "        \n",
    "            utilities.print_hard_items(hard_items_indexes,final_test_data)\n",
    "    \n",
    "    \n",
    "    ## based on the 5 hardest to be predicted itemss of every round\n",
    "    ## find the hardest to predict items overall\n",
    "    utilities.get_hardest_to_predict_items_overall(hardest_to_predict_dict,data)\n",
    "        \n",
    "    print(results)\n",
    "    \n",
    "    error = []\n",
    "    param = []\n",
    "    for (e,p) in results:\n",
    "        error.append(e)\n",
    "        param.append(p)\n",
    "        \n",
    "    print(\"--------\")\n",
    "\n",
    "        \n",
    "    print(\"Mean error: \" + str(np.mean(error)))\n",
    "    print(\"Std error: \" + str(np.std(error)))\n",
    "    print(\"Mean param: \" + str(np.mean(param)))\n",
    "    print(\"Std param: \" + str(np.std(param)))\n",
    "\n",
    "    \n",
    "    print(\"--------\")\n",
    "    \n",
    "    utilities.get_average_confusions(confusion_error_list)\n",
    "        "
   ]
  },
  {
   "cell_type": "code",
   "execution_count": 9,
   "metadata": {},
   "outputs": [
    {
     "data": {
      "image/png": "[encoded data removed]",
      "text/plain": [
       "<Figure size 432x288 with 1 Axes>"
      ]
     },
     "metadata": {
      "needs_background": "light"
     },
     "output_type": "display_data"
    },
    {
     "name": "stdout",
     "output_type": "stream",
     "text": [
      "4\n"
     ]
    }
   ],
   "source": [
    "imgplot = plt.imshow(data[8260].reshape((16,16)))\n",
    "plt.show()\n",
    "print(labels[8260])"
   ]
  },
  {
   "cell_type": "code",
   "execution_count": null,
   "metadata": {},
   "outputs": [],
   "source": []
  }
 ],
 "metadata": {
  "kernelspec": {
   "display_name": "Python 3",
   "language": "python",
   "name": "python3"
  },
  "language_info": {
   "codemirror_mode": {
    "name": "ipython",
    "version": 3
   },
   "file_extension": ".py",
   "mimetype": "text/x-python",
   "name": "python",
   "nbconvert_exporter": "python",
   "pygments_lexer": "ipython3",
   "version": "3.7.3"
  }
 },
 "nbformat": 4,
 "nbformat_minor": 4
}
