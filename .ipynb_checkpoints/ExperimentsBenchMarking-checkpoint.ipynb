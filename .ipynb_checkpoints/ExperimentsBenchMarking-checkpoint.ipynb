{
 "cells": [
  {
   "cell_type": "code",
   "execution_count": 12,
   "metadata": {},
   "outputs": [],
   "source": [
    "import utilities\n",
    "import matplotlib.pyplot as plt\n",
    "import numpy as np\n",
    "import AdaBoost"
   ]
  },
  {
   "cell_type": "code",
   "execution_count": 13,
   "metadata": {},
   "outputs": [],
   "source": [
    "height = width = 16"
   ]
  },
  {
   "cell_type": "code",
   "execution_count": 14,
   "metadata": {},
   "outputs": [],
   "source": [
    "train_data = 'Datasets/full_dataset.dat'"
   ]
  },
  {
   "cell_type": "code",
   "execution_count": 15,
   "metadata": {},
   "outputs": [],
   "source": [
    "data,labels = utilities.read_data(train_data,width,height)"
   ]
  },
  {
   "cell_type": "code",
   "execution_count": 16,
   "metadata": {},
   "outputs": [
    {
     "name": "stdout",
     "output_type": "stream",
     "text": [
      "(1446, 256)\n",
      "(620, 256)\n",
      "(1446,)\n",
      "(620,)\n"
     ]
    }
   ],
   "source": [
    "train_data,test_data,train_labels,test_labels = utilities.data_split(data,labels,0.3)\n",
    "print(train_data.shape)\n",
    "print(test_data.shape)\n",
    "print(train_labels.shape)\n",
    "print(test_labels.shape)"
   ]
  },
  {
   "cell_type": "code",
   "execution_count": 17,
   "metadata": {},
   "outputs": [
    {
     "name": "stdout",
     "output_type": "stream",
     "text": [
      "286 images of class 0 found\n",
      "233 images of class 1 found\n",
      "154 images of class 2 found\n",
      "110 images of class 3 found\n",
      "99 images of class 4 found\n",
      "74 images of class 5 found\n",
      "123 images of class 6 found\n",
      "134 images of class 7 found\n",
      "110 images of class 8 found\n",
      "123 images of class 9 found\n"
     ]
    }
   ],
   "source": [
    "data_per_class_dictionary = utilities.collect_each_class_images(train_data,train_labels,10)"
   ]
  },
  {
   "cell_type": "code",
   "execution_count": 18,
   "metadata": {},
   "outputs": [],
   "source": [
    "def one_VS_all_training(class_number,BOOSTING_ROUNDS):\n",
    "    \n",
    "    models_dict = {}\n",
    "    for n in range(0,class_number):\n",
    "        print(\"Training a classifier for: \" + str(n))\n",
    "        dat,lbl = utilities.create_1_VS_others_dataset(n,data_per_class_dictionary)\n",
    "        model = AdaBoost.AdaBoost()\n",
    "        model.fit(dat,lbl,BOOSTING_ROUNDS)\n",
    "        models_dict[n] = model\n",
    "        ##model.plot_learning_process()\n",
    "        \n",
    "    return models_dict"
   ]
  },
  {
   "cell_type": "code",
   "execution_count": 19,
   "metadata": {},
   "outputs": [],
   "source": [
    "def one_VS_all_testing(models_dict,data):\n",
    "    \n",
    "    models_confidence = []\n",
    "    for key in models_dict:\n",
    "        model = models_dict.get(key)\n",
    "        _,confidence = model.predict(data)\n",
    "        models_confidence.append(confidence)\n",
    "        \n",
    "    predictions = []\n",
    "        \n",
    "    for i in range(len(data)):\n",
    "        results = []\n",
    "        for j in range(len(models_confidence)):\n",
    "            results.append((j,models_confidence[j][i]))\n",
    "            \n",
    "        ## return as the prediction of the i-th datum the prediction of the classifier with the highest confidence\n",
    "        predictions.append(sorted(results, key=lambda tup: tup[1],reverse = True)[0][0])\n",
    "        \n",
    "    return predictions"
   ]
  },
  {
   "cell_type": "code",
   "execution_count": 20,
   "metadata": {},
   "outputs": [
    {
     "name": "stdout",
     "output_type": "stream",
     "text": [
      "Training a classifier for: 0\n",
      "Training a classifier for: 1\n",
      "Training a classifier for: 2\n",
      "Training a classifier for: 3\n",
      "Training a classifier for: 4\n",
      "Training a classifier for: 5\n",
      "Training a classifier for: 6\n",
      "Training a classifier for: 7\n",
      "Training a classifier for: 8\n",
      "Training a classifier for: 9\n"
     ]
    }
   ],
   "source": [
    "BOOSTING_ROUNDS = 50\n",
    "class_number = 10\n",
    "models_dict = one_VS_all_training(class_number,BOOSTING_ROUNDS)"
   ]
  },
  {
   "cell_type": "code",
   "execution_count": 21,
   "metadata": {},
   "outputs": [],
   "source": [
    "test_predictions = one_VS_all_testing(models_dict,test_data)"
   ]
  },
  {
   "cell_type": "code",
   "execution_count": 22,
   "metadata": {},
   "outputs": [
    {
     "name": "stdout",
     "output_type": "stream",
     "text": [
      "90.96774193548387\n"
     ]
    }
   ],
   "source": [
    "print(utilities.calculate_accuracy(test_predictions,test_labels))"
   ]
  }
 ],
 "metadata": {
  "kernelspec": {
   "display_name": "Python 3",
   "language": "python",
   "name": "python3"
  },
  "language_info": {
   "codemirror_mode": {
    "name": "ipython",
    "version": 3
   },
   "file_extension": ".py",
   "mimetype": "text/x-python",
   "name": "python",
   "nbconvert_exporter": "python",
   "pygments_lexer": "ipython3",
   "version": "3.6.7"
  }
 },
 "nbformat": 4,
 "nbformat_minor": 4
}
