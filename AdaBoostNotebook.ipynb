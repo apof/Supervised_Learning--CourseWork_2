{
 "cells": [
  {
   "cell_type": "code",
   "execution_count": 1,
   "metadata": {},
   "outputs": [],
   "source": [
    "import matplotlib.pyplot as plt\n",
    "import numpy as np\n",
    "import AdaBoost\n",
    "from construct_data import construct_data"
   ]
  },
  {
   "cell_type": "code",
   "execution_count": 3,
   "metadata": {},
   "outputs": [
    {
     "name": "stdout",
     "output_type": "stream",
     "text": [
      "(28, 28, 12000)\n",
      "(12000,)\n"
     ]
    }
   ],
   "source": [
    "X_train = np.load(\"Datasets/Fashion_MNIST_Dataset/fashion-train-imgs.npz\")\n",
    "Y_train = np.load(\"Datasets/Fashion_MNIST_Dataset/fashion-train-labels.npz\")\n",
    "\n",
    "X_valid = np.load(\"Datasets/Fashion_MNIST_Dataset/fashion-dev-imgs.npz\")\n",
    "Y_valid = np.load(\"Datasets/Fashion_MNIST_Dataset/fashion-dev-labels.npz\")\n",
    "\n",
    "\n",
    "\n",
    "print(X_train.shape)\n",
    "print(Y_train.shape)"
   ]
  },
  {
   "cell_type": "code",
   "execution_count": 4,
   "metadata": {},
   "outputs": [],
   "source": [
    "train_labels = []\n",
    "valid_labels = []\n",
    "\n",
    "for label in Y_train:\n",
    "    if(label == 0):\n",
    "        train_labels.append(-1)\n",
    "    else:\n",
    "        train_labels.append(1)\n",
    "        \n",
    "for label in Y_valid:\n",
    "    if(label == 0):\n",
    "        valid_labels.append(-1)\n",
    "    else:\n",
    "        valid_labels.append(1)\n",
    "        \n",
    "train_labels = np.array(train_labels)\n",
    "valid_labels = np.array(valid_labels)"
   ]
  },
  {
   "cell_type": "code",
   "execution_count": 5,
   "metadata": {},
   "outputs": [
    {
     "name": "stdout",
     "output_type": "stream",
     "text": [
      "(12000, 784)\n",
      "(1000, 784)\n",
      "(12000,)\n",
      "(1000,)\n"
     ]
    }
   ],
   "source": [
    "## flatten the 2d images into 1d arrays\n",
    "flat_X_train = []\n",
    "flat_X_valid = []\n",
    "\n",
    "for image in X_train.T:\n",
    "    flat_X_train.append(image.flatten())\n",
    "for image in X_valid.T:\n",
    "    flat_X_valid.append(image.flatten())\n",
    "    \n",
    "train_data = np.array(flat_X_train)\n",
    "valid_data = np.array(flat_X_valid)\n",
    "    \n",
    "print(train_data.shape)\n",
    "print(valid_data.shape)\n",
    "print(train_labels.shape)\n",
    "print(valid_labels.shape)"
   ]
  },
  {
   "cell_type": "code",
   "execution_count": 6,
   "metadata": {},
   "outputs": [],
   "source": [
    "##train_data = train_data[0:300]\n",
    "##train_labels = train_labels[0:300]"
   ]
  },
  {
   "cell_type": "code",
   "execution_count": 7,
   "metadata": {},
   "outputs": [],
   "source": [
    "BOOSTING_ROUNDS = 25"
   ]
  },
  {
   "cell_type": "code",
   "execution_count": 8,
   "metadata": {},
   "outputs": [],
   "source": [
    "##model = AdaBoost.AdaBoost(BOOSTING_ROUNDS,train_data.shape[0])"
   ]
  },
  {
   "cell_type": "code",
   "execution_count": 9,
   "metadata": {},
   "outputs": [],
   "source": [
    "##model.fit(train_data,train_labels)"
   ]
  },
  {
   "cell_type": "code",
   "execution_count": 10,
   "metadata": {},
   "outputs": [],
   "source": [
    "model = AdaBoost.AdaBoost()\n",
    "#AdaBoost.fit = fit\n",
    "#AdaBoost.predict = predict\n",
    "\n",
    "#clf = AdaBoost().fit(X, y, iters=10)\n",
    "\n",
    "#train_err = (clf.predict(X) != y).mean()\n",
    "#print(f'Train error: {train_err:.1%}')"
   ]
  },
  {
   "cell_type": "code",
   "execution_count": 11,
   "metadata": {},
   "outputs": [
    {
     "name": "stdout",
     "output_type": "stream",
     "text": [
      "Boosting round: 0\n",
      "Boosting round: 1\n",
      "Boosting round: 2\n",
      "Boosting round: 3\n",
      "Boosting round: 4\n",
      "Boosting round: 5\n",
      "Boosting round: 6\n",
      "Boosting round: 7\n",
      "Boosting round: 8\n",
      "Boosting round: 9\n",
      "Boosting round: 10\n",
      "Boosting round: 11\n",
      "Boosting round: 12\n",
      "Boosting round: 13\n",
      "Boosting round: 14\n",
      "Boosting round: 15\n",
      "Boosting round: 16\n",
      "Boosting round: 17\n",
      "Boosting round: 18\n",
      "Boosting round: 19\n",
      "Boosting round: 20\n",
      "Boosting round: 21\n",
      "Boosting round: 22\n",
      "Boosting round: 23\n",
      "Boosting round: 24\n"
     ]
    }
   ],
   "source": [
    "model.fit(train_data,train_labels,BOOSTING_ROUNDS)"
   ]
  },
  {
   "cell_type": "code",
   "execution_count": 12,
   "metadata": {},
   "outputs": [],
   "source": [
    "train_error = (model.predict(train_data) != train_labels).mean()"
   ]
  },
  {
   "cell_type": "code",
   "execution_count": 13,
   "metadata": {},
   "outputs": [
    {
     "name": "stdout",
     "output_type": "stream",
     "text": [
      "Error on the trainig set is: 0.05583333333333333\n"
     ]
    }
   ],
   "source": [
    "print(\"Error on the trainig set is: \" + str(train_error))"
   ]
  },
  {
   "cell_type": "code",
   "execution_count": 14,
   "metadata": {},
   "outputs": [],
   "source": [
    "valid_error = (model.predict(valid_data) != valid_labels).mean()"
   ]
  },
  {
   "cell_type": "code",
   "execution_count": 15,
   "metadata": {},
   "outputs": [
    {
     "name": "stdout",
     "output_type": "stream",
     "text": [
      "Error on the validation set is: 0.049\n"
     ]
    }
   ],
   "source": [
    "print(\"Error on the validation set is: \" + str(valid_error))"
   ]
  },
  {
   "cell_type": "code",
   "execution_count": 16,
   "metadata": {},
   "outputs": [
    {
     "data": {
      "image/png": "[encoded data removed]",
      "text/plain": [
       "<Figure size 432x288 with 1 Axes>"
      ]
     },
     "metadata": {
      "needs_background": "light"
     },
     "output_type": "display_data"
    }
   ],
   "source": [
    "model.plot_learning_process()"
   ]
  }
 ],
 "metadata": {
  "kernelspec": {
   "display_name": "Python 3",
   "language": "python",
   "name": "python3"
  },
  "language_info": {
   "codemirror_mode": {
    "name": "ipython",
    "version": 3
   },
   "file_extension": ".py",
   "mimetype": "text/x-python",
   "name": "python",
   "nbconvert_exporter": "python",
   "pygments_lexer": "ipython3",
   "version": "3.7.3"
  }
 },
 "nbformat": 4,
 "nbformat_minor": 4
}
