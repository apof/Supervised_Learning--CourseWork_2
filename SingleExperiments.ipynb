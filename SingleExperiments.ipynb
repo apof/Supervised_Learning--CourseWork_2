{
 "cells": [
  {
   "cell_type": "code",
   "execution_count": 25,
   "metadata": {},
   "outputs": [],
   "source": [
    "import matplotlib.pyplot as plt\n",
    "import numpy as np\n",
    "import AdaBoost\n",
    "import KernelPerceptron"
   ]
  },
  {
   "cell_type": "code",
   "execution_count": 26,
   "metadata": {},
   "outputs": [
    {
     "name": "stdout",
     "output_type": "stream",
     "text": [
      "(28, 28, 12000)\n",
      "(12000,)\n"
     ]
    }
   ],
   "source": [
    "X_train = np.load(\"Datasets/Fashion_MNIST_Dataset/fashion-train-imgs.npz\")\n",
    "Y_train = np.load(\"Datasets/Fashion_MNIST_Dataset/fashion-train-labels.npz\")\n",
    "\n",
    "X_valid = np.load(\"Datasets/Fashion_MNIST_Dataset/fashion-dev-imgs.npz\")\n",
    "Y_valid = np.load(\"Datasets/Fashion_MNIST_Dataset/fashion-dev-labels.npz\")\n",
    "\n",
    "print(X_train.shape)\n",
    "print(Y_train.shape)"
   ]
  },
  {
   "cell_type": "code",
   "execution_count": 27,
   "metadata": {},
   "outputs": [],
   "source": [
    "train_labels = []\n",
    "valid_labels = []\n",
    "\n",
    "for label in Y_train:\n",
    "    if(label == 0):\n",
    "        train_labels.append(-1)\n",
    "    else:\n",
    "        train_labels.append(1)\n",
    "        \n",
    "for label in Y_valid:\n",
    "    if(label == 0):\n",
    "        valid_labels.append(-1)\n",
    "    else:\n",
    "        valid_labels.append(1)\n",
    "        \n",
    "train_labels = np.array(train_labels)\n",
    "valid_labels = np.array(valid_labels)"
   ]
  },
  {
   "cell_type": "code",
   "execution_count": 28,
   "metadata": {},
   "outputs": [
    {
     "name": "stdout",
     "output_type": "stream",
     "text": [
      "(1000, 784)\n",
      "(1000, 784)\n",
      "(1000,)\n",
      "(1000,)\n"
     ]
    }
   ],
   "source": [
    "## flatten the 2d images into 1d arrays\n",
    "flat_X_train = []\n",
    "flat_X_valid = []\n",
    "\n",
    "for image in X_train.T:\n",
    "    flat_X_train.append(image.flatten())\n",
    "for image in X_valid.T:\n",
    "    flat_X_valid.append(image.flatten())\n",
    "    \n",
    "train_data = np.array(flat_X_train)[0:1000]\n",
    "valid_data = np.array(flat_X_valid)[0:1000]\n",
    "\n",
    "train_labels = train_labels[0:1000]\n",
    "valid_labels = valid_labels[0:1000]\n",
    "    \n",
    "print(train_data.shape)\n",
    "print(valid_data.shape)\n",
    "print(train_labels.shape)\n",
    "print(valid_labels.shape)"
   ]
  },
  {
   "cell_type": "code",
   "execution_count": 29,
   "metadata": {},
   "outputs": [],
   "source": [
    "#BOOSTING_ROUNDS = 50\n",
    "#model = AdaBoost.AdaBoost()\n",
    "#model.fit(train_data,train_labels,BOOSTING_ROUNDS)\n",
    "#model.plot_learning_process()"
   ]
  },
  {
   "cell_type": "code",
   "execution_count": 30,
   "metadata": {},
   "outputs": [],
   "source": [
    "model = KernelPerceptron.KernelPerceptron('gaussian',0.3)\n",
    "model.fit(train_data,train_labels)"
   ]
  },
  {
   "cell_type": "code",
   "execution_count": 31,
   "metadata": {},
   "outputs": [],
   "source": [
    "train_error = (model.predict(train_data)[0] != train_labels).mean()"
   ]
  },
  {
   "cell_type": "code",
   "execution_count": 32,
   "metadata": {},
   "outputs": [
    {
     "name": "stdout",
     "output_type": "stream",
     "text": [
      "Error on the trainig set is: 0.018\n"
     ]
    }
   ],
   "source": [
    "print(\"Error on the trainig set is: \" + str(train_error))"
   ]
  },
  {
   "cell_type": "code",
   "execution_count": 33,
   "metadata": {},
   "outputs": [],
   "source": [
    "valid_error = (model.predict(valid_data)[0] != valid_labels).mean()"
   ]
  },
  {
   "cell_type": "code",
   "execution_count": 34,
   "metadata": {},
   "outputs": [
    {
     "name": "stdout",
     "output_type": "stream",
     "text": [
      "Error on the validation set is: 0.071\n"
     ]
    }
   ],
   "source": [
    "print(\"Error on the validation set is: \" + str(valid_error))"
   ]
  },
  {
   "cell_type": "code",
   "execution_count": 35,
   "metadata": {},
   "outputs": [
    {
     "name": "stdout",
     "output_type": "stream",
     "text": [
      "[ 1.  1.  1. -1. -1.  1.  1.  1.  1.  1.  1. -1.  1. -1.  1.  1.  1.  1.\n",
      " -1.  1.]\n",
      "[7.769622279271403e-50, 8.063039698257553e-109, 2.6165610318019095e-111, -1.0609254291049449e-91, -1.8730199075385836e-91, 2.1639002705537163e-74, 5.946073720433528e-91, 7.137591717700407e-58, 1.27277490891957e-103, 6.71602791461356e-140, 1.4150946200745854e-89, -9.37572520546754e-93, 1.1850766730146053e-86, -3.993759742471453e-159, 2.342521436396277e-129, 2.809964947772656e-150, 2.1351564846346263e-96, 2.4064358026948914e-109, -1.4814405079236393e-75, 3.232177592318761e-58]\n"
     ]
    }
   ],
   "source": [
    "print(model.predict(valid_data)[0][0:20])\n",
    "print(model.predict(valid_data)[1][0:20])"
   ]
  },
  {
   "cell_type": "code",
   "execution_count": 36,
   "metadata": {},
   "outputs": [
    {
     "name": "stdout",
     "output_type": "stream",
     "text": [
      "[ 1  1  1 -1 -1  1  1  1  1  1  1 -1  1 -1  1  1  1  1 -1  1]\n"
     ]
    }
   ],
   "source": [
    "print(valid_labels[0:20])"
   ]
  }
 ],
 "metadata": {
  "kernelspec": {
   "display_name": "Python 3",
   "language": "python",
   "name": "python3"
  },
  "language_info": {
   "codemirror_mode": {
    "name": "ipython",
    "version": 3
   },
   "file_extension": ".py",
   "mimetype": "text/x-python",
   "name": "python",
   "nbconvert_exporter": "python",
   "pygments_lexer": "ipython3",
   "version": "3.7.3"
  }
 },
 "nbformat": 4,
 "nbformat_minor": 4
}
